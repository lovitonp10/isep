{
 "cells": [
  {
   "cell_type": "code",
   "execution_count": 89,
   "id": "587af31b",
   "metadata": {},
   "outputs": [],
   "source": [
    "import pandas as pd\n",
    "import matplotlib.pyplot as plt\n",
    "import numpy as np\n",
    "import seaborn as sns; sns.set()\n",
    "from scipy.stats import chi2_contingency"
   ]
  },
  {
   "cell_type": "markdown",
   "id": "4019843d",
   "metadata": {},
   "source": [
    "# A- Question sur le cours"
   ]
  },
  {
   "cell_type": "markdown",
   "id": "2dd09f14",
   "metadata": {},
   "source": [
    "## 1"
   ]
  },
  {
   "cell_type": "raw",
   "id": "bab4a1d6",
   "metadata": {},
   "source": [
    "Les variables catégorielles sont des variables dont les valeurs sont une catégorie ou plus, comme son nom l'indique."
   ]
  },
  {
   "cell_type": "markdown",
   "id": "d4ff578d",
   "metadata": {},
   "source": [
    "## 2"
   ]
  },
  {
   "cell_type": "raw",
   "id": "85758e6d",
   "metadata": {},
   "source": [
    "Les mesures classiques d'analyse bivariées ne peuvent être utiliser car, après encodage, les variables catégorielles sont des valeurs discrètes et non continues."
   ]
  },
  {
   "cell_type": "markdown",
   "id": "16424a66",
   "metadata": {},
   "source": [
    "## 3"
   ]
  },
  {
   "cell_type": "raw",
   "id": "27b36dc0",
   "metadata": {},
   "source": [
    "Un test d'hypothèses est un test statistique qui permet d'accepter ou de rejeter un hypothèse émise à partir de l'étude d'un ou plusieurs échantillons aléatoires. Cela permet de déterminer si les différences constatées peuvent être dûes au hasard ou bien si grande qu'elles sont vérifiées."
   ]
  },
  {
   "cell_type": "markdown",
   "id": "4e192a5d",
   "metadata": {},
   "source": [
    "## 4"
   ]
  },
  {
   "cell_type": "raw",
   "id": "da7c08dc",
   "metadata": {},
   "source": [
    "Le test de χ2 teste les hypothèses d'indépendance entre 2 variables catégorielles.\n",
    "On peut interpréter ce test en fonction du résultat. Si χ2 vaut 0, cela signifie que les 2 variables sont complètement indépendantes. Un χ2 différent de 0 est plus compliqué à interpréter : il faut évaluer la probabilité du résultat de χ2 basé sur sa propre distribution ou l'évaluer en utilisant le coefficient de Chuprov ou le V de Cramer. "
   ]
  },
  {
   "cell_type": "markdown",
   "id": "14c7a5a6",
   "metadata": {},
   "source": [
    "# B- Test d'indépendance et variables catégorielles"
   ]
  },
  {
   "cell_type": "markdown",
   "id": "47a52420",
   "metadata": {},
   "source": [
    "## 1"
   ]
  },
  {
   "cell_type": "code",
   "execution_count": 2,
   "id": "2ca61de6",
   "metadata": {},
   "outputs": [
    {
     "data": {
      "text/plain": [
       "'/Users/pierreloviton/PycharmProjects/data-science/ISEP/Data Analysis/TP3'"
      ]
     },
     "execution_count": 2,
     "metadata": {},
     "output_type": "execute_result"
    }
   ],
   "source": [
    "#print actual path to the repertory\n",
    "import os\n",
    "os.getcwd()"
   ]
  },
  {
   "cell_type": "code",
   "execution_count": 93,
   "id": "1dafe449",
   "metadata": {},
   "outputs": [],
   "source": [
    "df = pd.read_csv('/Users/pierreloviton/PycharmProjects/data-science/ISEP/Data Analysis/TP3/stats_socio.csv')"
   ]
  },
  {
   "cell_type": "code",
   "execution_count": 13,
   "id": "84a9835f",
   "metadata": {
    "scrolled": true
   },
   "outputs": [
    {
     "data": {
      "text/html": [
       "<div>\n",
       "<style scoped>\n",
       "    .dataframe tbody tr th:only-of-type {\n",
       "        vertical-align: middle;\n",
       "    }\n",
       "\n",
       "    .dataframe tbody tr th {\n",
       "        vertical-align: top;\n",
       "    }\n",
       "\n",
       "    .dataframe thead th {\n",
       "        text-align: right;\n",
       "    }\n",
       "</style>\n",
       "<table border=\"1\" class=\"dataframe\">\n",
       "  <thead>\n",
       "    <tr style=\"text-align: right;\">\n",
       "      <th></th>\n",
       "      <th>Etudes</th>\n",
       "      <th>Parents</th>\n",
       "    </tr>\n",
       "  </thead>\n",
       "  <tbody>\n",
       "    <tr>\n",
       "      <th>0</th>\n",
       "      <td>IUT/BTS</td>\n",
       "      <td>Prof_Libe</td>\n",
       "    </tr>\n",
       "    <tr>\n",
       "      <th>1</th>\n",
       "      <td>IUT/BTS</td>\n",
       "      <td>Employés</td>\n",
       "    </tr>\n",
       "    <tr>\n",
       "      <th>2</th>\n",
       "      <td>IUT/BTS</td>\n",
       "      <td>Cadres</td>\n",
       "    </tr>\n",
       "    <tr>\n",
       "      <th>3</th>\n",
       "      <td>Univ_Socio</td>\n",
       "      <td>Prof_Libe</td>\n",
       "    </tr>\n",
       "    <tr>\n",
       "      <th>4</th>\n",
       "      <td>Univ_Science</td>\n",
       "      <td>Ouvriers</td>\n",
       "    </tr>\n",
       "  </tbody>\n",
       "</table>\n",
       "</div>"
      ],
      "text/plain": [
       "         Etudes    Parents\n",
       "0       IUT/BTS  Prof_Libe\n",
       "1       IUT/BTS   Employés\n",
       "2       IUT/BTS     Cadres\n",
       "3    Univ_Socio  Prof_Libe\n",
       "4  Univ_Science   Ouvriers"
      ]
     },
     "execution_count": 13,
     "metadata": {},
     "output_type": "execute_result"
    }
   ],
   "source": [
    "df.head()"
   ]
  },
  {
   "cell_type": "code",
   "execution_count": 162,
   "id": "1287af62",
   "metadata": {},
   "outputs": [
    {
     "data": {
      "text/plain": [
       "(2440, 2)"
      ]
     },
     "execution_count": 162,
     "metadata": {},
     "output_type": "execute_result"
    }
   ],
   "source": [
    "df.shape"
   ]
  },
  {
   "cell_type": "code",
   "execution_count": 217,
   "id": "34e30f98",
   "metadata": {},
   "outputs": [
    {
     "data": {
      "text/plain": [
       "Univ_Science        770\n",
       "Ecole_Ingenieurs    520\n",
       "IUT/BTS             350\n",
       "Ecole_Commerce      304\n",
       "Médecine            286\n",
       "Univ_Socio          210\n",
       "Name: Etudes, dtype: int64"
      ]
     },
     "execution_count": 217,
     "metadata": {},
     "output_type": "execute_result"
    }
   ],
   "source": [
    "df.Etudes.value_counts()"
   ]
  },
  {
   "cell_type": "code",
   "execution_count": 218,
   "id": "713d7474",
   "metadata": {
    "scrolled": true
   },
   "outputs": [
    {
     "data": {
      "text/plain": [
       "Employés     805\n",
       "Cadres       655\n",
       "Ouvriers     510\n",
       "Prof_Libe    470\n",
       "Name: Parents, dtype: int64"
      ]
     },
     "execution_count": 218,
     "metadata": {},
     "output_type": "execute_result"
    }
   ],
   "source": [
    "df.Parents.value_counts()"
   ]
  },
  {
   "cell_type": "code",
   "execution_count": 201,
   "id": "96d43820",
   "metadata": {},
   "outputs": [
    {
     "data": {
      "text/plain": [
       "([0, 1, 2, 3, 4, 5],\n",
       " [Text(0, 0, ''),\n",
       "  Text(0, 0, ''),\n",
       "  Text(0, 0, ''),\n",
       "  Text(0, 0, ''),\n",
       "  Text(0, 0, ''),\n",
       "  Text(0, 0, '')])"
      ]
     },
     "execution_count": 201,
     "metadata": {},
     "output_type": "execute_result"
    },
    {
     "data": {
      "image/png": "[encoded data removed]",
      "text/plain": [
       "<Figure size 1080x360 with 2 Axes>"
      ]
     },
     "metadata": {},
     "output_type": "display_data"
    }
   ],
   "source": [
    "f, axes = plt.subplots(1,2, figsize=(15,5))\n",
    "axes[0].hist(df.Parents,bins=4,color='g')\n",
    "axes[0].set_title('Histogramme des postes des parents')\n",
    "axes[1].hist(df.Etudes,bins=6,color='blue')\n",
    "axes[1].set_title('Histogramme des Etudes des parents')\n",
    "plt.xticks(rotation=45)"
   ]
  },
  {
   "cell_type": "code",
   "execution_count": 224,
   "id": "7d43a0f5",
   "metadata": {},
   "outputs": [
    {
     "data": {
      "text/plain": [
       "(array([0, 1, 2, 3, 4, 5]),\n",
       " [Text(0, 0, 'IUT/BTS'),\n",
       "  Text(1, 0, 'Univ_Socio'),\n",
       "  Text(2, 0, 'Univ_Science'),\n",
       "  Text(3, 0, 'Ecole_Ingenieurs'),\n",
       "  Text(4, 0, 'Médecine'),\n",
       "  Text(5, 0, 'Ecole_Commerce')])"
      ]
     },
     "execution_count": 224,
     "metadata": {},
     "output_type": "execute_result"
    },
    {
     "data": {
      "image/png": "[encoded data removed]",
      "text/plain": [
       "<Figure size 432x288 with 1 Axes>"
      ]
     },
     "metadata": {},
     "output_type": "display_data"
    }
   ],
   "source": [
    "# Histogramme croisés des diff catégories\n",
    "sns.countplot(x=\"Etudes\",data=df,hue='Parents').set_title('Histogramme des Etudes des parents en fonction des postes des parents')\n",
    "plt.xticks(rotation=45)\n"
   ]
  },
  {
   "cell_type": "raw",
   "id": "3b591900",
   "metadata": {},
   "source": [
    "Les deux premiers histogrammes présentes la distributions des features Parents et Etudes sous forme de barres. On peut voir que les postes sont plus équitablement répartis que les études faites, avec un grand nombre de personnes en Univ_Science et Ecole_Ingenieurs. Au niveau des postes, les cadres et employés sont plus réprésentés.\n",
    "\n",
    "On peut observer à partir de la deuxième figure  les différentes catégories de variables. Certaines sont très peut représentées dans des catégories (comme dans Ecole_Commerce, Ecole_Ingenieurs ou Univ_Science), ce qui peut engendrer des biais dans l'analyse des données : les cadres et employés sont peut-être plus représentés, car nous avons un dataset comprenant un grand nombre de parents sortant d'école d'ingénieurs et d'université de science, et cela peut affecter les résultats.\n",
    "On peut notamment remarquer que certaines études amènent à des postes plus homogènes que d'autres (IUT/BTS vs Ecole_Commerce ou Ecole_Ingenieurs)."
   ]
  },
  {
   "cell_type": "markdown",
   "id": "ab70773d",
   "metadata": {},
   "source": [
    "## 2"
   ]
  },
  {
   "cell_type": "code",
   "execution_count": 85,
   "id": "cc21a702",
   "metadata": {},
   "outputs": [
    {
     "data": {
      "text/html": [
       "<div>\n",
       "<style scoped>\n",
       "    .dataframe tbody tr th:only-of-type {\n",
       "        vertical-align: middle;\n",
       "    }\n",
       "\n",
       "    .dataframe tbody tr th {\n",
       "        vertical-align: top;\n",
       "    }\n",
       "\n",
       "    .dataframe thead th {\n",
       "        text-align: right;\n",
       "    }\n",
       "</style>\n",
       "<table border=\"1\" class=\"dataframe\">\n",
       "  <thead>\n",
       "    <tr style=\"text-align: right;\">\n",
       "      <th>Parents</th>\n",
       "      <th>Cadres</th>\n",
       "      <th>Employés</th>\n",
       "      <th>Ouvriers</th>\n",
       "      <th>Prof_Libe</th>\n",
       "    </tr>\n",
       "    <tr>\n",
       "      <th>Etudes</th>\n",
       "      <th></th>\n",
       "      <th></th>\n",
       "      <th></th>\n",
       "      <th></th>\n",
       "    </tr>\n",
       "  </thead>\n",
       "  <tbody>\n",
       "    <tr>\n",
       "      <th>Ecole_Commerce</th>\n",
       "      <td>105</td>\n",
       "      <td>15</td>\n",
       "      <td>4</td>\n",
       "      <td>180</td>\n",
       "    </tr>\n",
       "    <tr>\n",
       "      <th>Ecole_Ingenieurs</th>\n",
       "      <td>170</td>\n",
       "      <td>280</td>\n",
       "      <td>50</td>\n",
       "      <td>20</td>\n",
       "    </tr>\n",
       "    <tr>\n",
       "      <th>IUT/BTS</th>\n",
       "      <td>90</td>\n",
       "      <td>100</td>\n",
       "      <td>110</td>\n",
       "      <td>50</td>\n",
       "    </tr>\n",
       "    <tr>\n",
       "      <th>Médecine</th>\n",
       "      <td>80</td>\n",
       "      <td>80</td>\n",
       "      <td>26</td>\n",
       "      <td>100</td>\n",
       "    </tr>\n",
       "    <tr>\n",
       "      <th>Univ_Science</th>\n",
       "      <td>170</td>\n",
       "      <td>260</td>\n",
       "      <td>300</td>\n",
       "      <td>40</td>\n",
       "    </tr>\n",
       "    <tr>\n",
       "      <th>Univ_Socio</th>\n",
       "      <td>40</td>\n",
       "      <td>70</td>\n",
       "      <td>20</td>\n",
       "      <td>80</td>\n",
       "    </tr>\n",
       "  </tbody>\n",
       "</table>\n",
       "</div>"
      ],
      "text/plain": [
       "Parents           Cadres  Employés  Ouvriers  Prof_Libe\n",
       "Etudes                                                 \n",
       "Ecole_Commerce       105        15         4        180\n",
       "Ecole_Ingenieurs     170       280        50         20\n",
       "IUT/BTS               90       100       110         50\n",
       "Médecine              80        80        26        100\n",
       "Univ_Science         170       260       300         40\n",
       "Univ_Socio            40        70        20         80"
      ]
     },
     "execution_count": 85,
     "metadata": {},
     "output_type": "execute_result"
    }
   ],
   "source": [
    "cross = pd.crosstab(df.Etudes, df.Parents)\n",
    "cross"
   ]
  },
  {
   "cell_type": "code",
   "execution_count": 227,
   "id": "8d0669a6",
   "metadata": {},
   "outputs": [
    {
     "name": "stdout",
     "output_type": "stream",
     "text": [
      "15\n"
     ]
    }
   ],
   "source": [
    "deg_lib = (cross.shape[0]-1)*(cross.shape[1]-1)\n",
    "print(deg_lib)"
   ]
  },
  {
   "cell_type": "raw",
   "id": "7e9ee743",
   "metadata": {},
   "source": [
    "On peut déterminer grâce au tableau de contingence le degré de liberté qui est de 15, car k=(4-1)*(6-1)\n",
    "On voit d’après ce tableau que les données sont mal réparties, un calcul du p-value nous permettrait de prouver que les variables sont indépendantes ou non."
   ]
  },
  {
   "cell_type": "markdown",
   "id": "08b00cba",
   "metadata": {},
   "source": [
    "## 3"
   ]
  },
  {
   "cell_type": "code",
   "execution_count": 157,
   "id": "97cb4d72",
   "metadata": {
    "scrolled": true
   },
   "outputs": [
    {
     "data": {
      "text/plain": [
       "(903.5797206663487,\n",
       " 6.044918979046688e-183,\n",
       " 15,\n",
       " array([[ 81.60655738, 100.29508197,  63.54098361,  58.55737705],\n",
       "        [139.59016393, 171.55737705, 108.68852459, 100.16393443],\n",
       "        [ 93.95491803, 115.47131148,  73.1557377 ,  67.41803279],\n",
       "        [ 76.77459016,  94.35655738,  59.77868852,  55.09016393],\n",
       "        [206.70081967, 254.03688525, 160.94262295, 148.31967213],\n",
       "        [ 56.37295082,  69.28278689,  43.89344262,  40.45081967]]))"
      ]
     },
     "execution_count": 157,
     "metadata": {},
     "output_type": "execute_result"
    }
   ],
   "source": [
    "chi2_contingency(cross)"
   ]
  },
  {
   "cell_type": "code",
   "execution_count": 258,
   "id": "e01b8dc8",
   "metadata": {},
   "outputs": [
    {
     "name": "stdout",
     "output_type": "stream",
     "text": [
      "0.35134008104690767\n"
     ]
    }
   ],
   "source": [
    "import math\n",
    "cramer = math.sqrt(chi2_contingency(cross)[0]/(df.shape[0]*min((cross.shape[0]-1),(len(cross.columns)-1))))\n",
    "print(cramer)"
   ]
  },
  {
   "cell_type": "raw",
   "id": "9daed41f",
   "metadata": {},
   "source": [
    "Nous pouvons émettre 2 hypothèses :\n",
    "    H0 : Les variables sont indépendantes\n",
    "    H1 : Les varianles sont dépendantes\n",
    "Le χ2 est égale à 903.58 et la p-value à 6.05e-183. \n",
    "La p-value est très inférieure a 0.05 nous pouvons donc directement rejeter l’hypothèse H0 et dire qu’il y a une grande chance (99.99%) de dépendance entre les études et les postes de parents.\n",
    "\n",
    "On choisit de calculer le coefficient de Cramer, pour renforcer notre hyptohèse, plutôt que celui de Chuprov, car le tableau est rectangulaire.\n",
    "Ici, Cramer's V = 0.35 avec un degré de liberté est égal à 15, on retrouve le fait qu'il y a une dépendance forte entre ces 2 variables."
   ]
  },
  {
   "cell_type": "markdown",
   "id": "199d6c31",
   "metadata": {},
   "source": [
    "## 4"
   ]
  },
  {
   "cell_type": "raw",
   "id": "733f419c",
   "metadata": {},
   "source": [
    "En sachant que la population française compte en moyenne 70 enfants de cadre pour 100 enfants d'ouvriers, cette étude n'est donc pas parfaitement représentative, car le nombre de parents cadres et supérieurs au nombre de parents ici, cela ne représente donc pas parfaitement la population globale. Le biais provient du jeu de données originel."
   ]
  },
  {
   "cell_type": "markdown",
   "id": "273a27ac",
   "metadata": {},
   "source": [
    "# C- Étude de l'influence de l'haplogroupe I-M170 du chromosome Y sur la taille des hommes"
   ]
  },
  {
   "cell_type": "markdown",
   "id": "8a0cd276",
   "metadata": {},
   "source": [
    "## 1"
   ]
  },
  {
   "cell_type": "code",
   "execution_count": 150,
   "id": "e940ab41",
   "metadata": {},
   "outputs": [],
   "source": [
    "lst1 = [\"Azerbaïdjan\",\"Arménie\",\"Malte\",\"Portugal\",\"Albanie\",\"Chypre\",\"Moldavie\",\"Roumanie\",\"Turquie\",\"Bulgarie\",\"Géorgie\",\"Grèce\",\"Italie\",\"Ukraine\",\"Espagne\",\"Russie\",\"Macédoine\",\"Biélorussie\",\"Royaume Uni\",\"France\",\"Suisse\",\"Irlande\",\"Pologne\",\"Finlande\",\"USA (blancs)\",\"Slovaquie\",\"Lituanie\",\"Belgique\",\"Kosovo\",\"Autriche\",\"Slovénie\",\"Hongrie\",\"Norvège\",\"Lettonie\",\"Allemagne\",\"Danemark\",\"Croatie\",\"République Tchèque\",\"Serbie\",\"Suède\",\"Estonie\",\"Islande\",\"Monténégro\",\"Pays-Bas\"]\n",
    "lst2 = [173,173,173,173.8,174,174.7, 174.8,174.9,175,175.25,175.75,176,176.4,176.5,177,177.2,177.25,177.33,177.4,177.75,178.33,178.5,178.5,178.5,178.8,179.2,179.25,179.25,179.4,179.5,179.8,179.9,180,180.25,180.25,180.33,180.4,180.9,181.2,181.3,181.4,181.8,182.9,183.75]\n",
    "lst3 = [3.5,5,9,8,13.5,7.5,28,27,7,26,4,15,7.5,22.4,10,17.5,24,23.8,17,13,17.6,12.5,17.5,29,19,28,12,19.5,8,24,28,27.5,42,7,24,38.5,45,18.5,47.5,41.5,16.5,34,37.5,33]\n",
    "\n",
    "data = pd.DataFrame(list(zip(lst2,lst3)), columns = ['Taille moyenne (cm)',\"Fréquence de l'haplogroupe I-M170 (%)\"], index = lst1)\n",
    "data.index.name=\"Ville/Région\"\n"
   ]
  },
  {
   "cell_type": "code",
   "execution_count": 152,
   "id": "af879e95",
   "metadata": {},
   "outputs": [
    {
     "data": {
      "text/html": [
       "<div>\n",
       "<style scoped>\n",
       "    .dataframe tbody tr th:only-of-type {\n",
       "        vertical-align: middle;\n",
       "    }\n",
       "\n",
       "    .dataframe tbody tr th {\n",
       "        vertical-align: top;\n",
       "    }\n",
       "\n",
       "    .dataframe thead th {\n",
       "        text-align: right;\n",
       "    }\n",
       "</style>\n",
       "<table border=\"1\" class=\"dataframe\">\n",
       "  <thead>\n",
       "    <tr style=\"text-align: right;\">\n",
       "      <th></th>\n",
       "      <th>Taille moyenne (cm)</th>\n",
       "      <th>Fréquence de l'haplogroupe I-M170 (%)</th>\n",
       "    </tr>\n",
       "    <tr>\n",
       "      <th>Ville/Région</th>\n",
       "      <th></th>\n",
       "      <th></th>\n",
       "    </tr>\n",
       "  </thead>\n",
       "  <tbody>\n",
       "    <tr>\n",
       "      <th>Azerbaïdjan</th>\n",
       "      <td>173.0</td>\n",
       "      <td>3.5</td>\n",
       "    </tr>\n",
       "    <tr>\n",
       "      <th>Arménie</th>\n",
       "      <td>173.0</td>\n",
       "      <td>5.0</td>\n",
       "    </tr>\n",
       "    <tr>\n",
       "      <th>Malte</th>\n",
       "      <td>173.0</td>\n",
       "      <td>9.0</td>\n",
       "    </tr>\n",
       "    <tr>\n",
       "      <th>Portugal</th>\n",
       "      <td>173.8</td>\n",
       "      <td>8.0</td>\n",
       "    </tr>\n",
       "    <tr>\n",
       "      <th>Albanie</th>\n",
       "      <td>174.0</td>\n",
       "      <td>13.5</td>\n",
       "    </tr>\n",
       "  </tbody>\n",
       "</table>\n",
       "</div>"
      ],
      "text/plain": [
       "              Taille moyenne (cm)  Fréquence de l'haplogroupe I-M170 (%)\n",
       "Ville/Région                                                            \n",
       "Azerbaïdjan                 173.0                                    3.5\n",
       "Arménie                     173.0                                    5.0\n",
       "Malte                       173.0                                    9.0\n",
       "Portugal                    173.8                                    8.0\n",
       "Albanie                     174.0                                   13.5"
      ]
     },
     "execution_count": 152,
     "metadata": {},
     "output_type": "execute_result"
    }
   ],
   "source": [
    "data.head()"
   ]
  },
  {
   "cell_type": "code",
   "execution_count": 206,
   "id": "aabf2293",
   "metadata": {
    "scrolled": true
   },
   "outputs": [
    {
     "name": "stderr",
     "output_type": "stream",
     "text": [
      "/Users/pierreloviton/opt/anaconda3/lib/python3.9/site-packages/seaborn/distributions.py:2619: FutureWarning: `distplot` is a deprecated function and will be removed in a future version. Please adapt your code to use either `displot` (a figure-level function with similar flexibility) or `histplot` (an axes-level function for histograms).\n",
      "  warnings.warn(msg, FutureWarning)\n"
     ]
    },
    {
     "data": {
      "image/png": "[encoded data removed]",
      "text/plain": [
       "<Figure size 432x288 with 1 Axes>"
      ]
     },
     "metadata": {},
     "output_type": "display_data"
    },
    {
     "name": "stderr",
     "output_type": "stream",
     "text": [
      "/Users/pierreloviton/opt/anaconda3/lib/python3.9/site-packages/seaborn/distributions.py:2619: FutureWarning: `distplot` is a deprecated function and will be removed in a future version. Please adapt your code to use either `displot` (a figure-level function with similar flexibility) or `histplot` (an axes-level function for histograms).\n",
      "  warnings.warn(msg, FutureWarning)\n"
     ]
    },
    {
     "data": {
      "image/png": "[encoded data removed]",
      "text/plain": [
       "<Figure size 432x288 with 1 Axes>"
      ]
     },
     "metadata": {},
     "output_type": "display_data"
    }
   ],
   "source": [
    "sns.distplot(data['Taille moyenne (cm)']).set_title(\"Distribution de la taille moyen en cm\")\n",
    "plt.show()\n",
    "sns.distplot(data[\"Fréquence de l'haplogroupe I-M170 (%)\"]).set_title(\"Distribution de la fréquence de l'haplogroupe I-M170 en %\")\n",
    "plt.show()\n"
   ]
  },
  {
   "cell_type": "code",
   "execution_count": 208,
   "id": "64b64db9",
   "metadata": {},
   "outputs": [
    {
     "data": {
      "text/plain": [
       "Text(0.5, 1.0, \"Répartition de la taille moyenne en fonction de la fréquence de l'haplogroupe\")"
      ]
     },
     "execution_count": 208,
     "metadata": {},
     "output_type": "execute_result"
    },
    {
     "data": {
      "image/png": "[encoded data removed]",
      "text/plain": [
       "<Figure size 432x288 with 1 Axes>"
      ]
     },
     "metadata": {},
     "output_type": "display_data"
    }
   ],
   "source": [
    "sns.regplot(x=data[\"Fréquence de l'haplogroupe I-M170 (%)\"],y=data['Taille moyenne (cm)']).set_title(\"Répartition de la taille moyenne en fonction de la fréquence de l'haplogroupe\")\n"
   ]
  },
  {
   "cell_type": "raw",
   "id": "34bc7ec7",
   "metadata": {},
   "source": [
    "Les distributions de ces deux features suivent des lois normales.\n",
    "Celle de la taille moyenne a une skewness droite (positive) et celle de la fréquence de l'haplogroupe une skewness gauche (négative).\n",
    "\n",
    "Le graphique en nuage de points avec la droite de régression indique une relation positive entre les 2 features. Plus la fréquence de l'haplogroupe est grande, plus la taille moyenne augmente dans les pays."
   ]
  },
  {
   "cell_type": "markdown",
   "id": "afc57626",
   "metadata": {},
   "source": [
    "## 2"
   ]
  },
  {
   "cell_type": "code",
   "execution_count": 176,
   "id": "7b0d65ec",
   "metadata": {},
   "outputs": [
    {
     "data": {
      "text/html": [
       "<div>\n",
       "<style scoped>\n",
       "    .dataframe tbody tr th:only-of-type {\n",
       "        vertical-align: middle;\n",
       "    }\n",
       "\n",
       "    .dataframe tbody tr th {\n",
       "        vertical-align: top;\n",
       "    }\n",
       "\n",
       "    .dataframe thead th {\n",
       "        text-align: right;\n",
       "    }\n",
       "</style>\n",
       "<table border=\"1\" class=\"dataframe\">\n",
       "  <thead>\n",
       "    <tr style=\"text-align: right;\">\n",
       "      <th></th>\n",
       "      <th>Taille moyenne (cm)</th>\n",
       "      <th>Fréquence de l'haplogroupe I-M170 (%)</th>\n",
       "    </tr>\n",
       "  </thead>\n",
       "  <tbody>\n",
       "    <tr>\n",
       "      <th>Taille moyenne (cm)</th>\n",
       "      <td>1.000000</td>\n",
       "      <td>0.624254</td>\n",
       "    </tr>\n",
       "    <tr>\n",
       "      <th>Fréquence de l'haplogroupe I-M170 (%)</th>\n",
       "      <td>0.624254</td>\n",
       "      <td>1.000000</td>\n",
       "    </tr>\n",
       "  </tbody>\n",
       "</table>\n",
       "</div>"
      ],
      "text/plain": [
       "                                       Taille moyenne (cm)  \\\n",
       "Taille moyenne (cm)                               1.000000   \n",
       "Fréquence de l'haplogroupe I-M170 (%)             0.624254   \n",
       "\n",
       "                                       Fréquence de l'haplogroupe I-M170 (%)  \n",
       "Taille moyenne (cm)                                                 0.624254  \n",
       "Fréquence de l'haplogroupe I-M170 (%)                               1.000000  "
      ]
     },
     "execution_count": 176,
     "metadata": {},
     "output_type": "execute_result"
    }
   ],
   "source": [
    "corr = data.corr()\n",
    "corr"
   ]
  },
  {
   "cell_type": "raw",
   "id": "b18df020",
   "metadata": {},
   "source": [
    "Le coefficient de corrélation obtenu démontre qu'il y a une certaine influence de la mutation I-M170 sur la taille des individus de sexe masculin."
   ]
  },
  {
   "cell_type": "code",
   "execution_count": 199,
   "id": "7117826d",
   "metadata": {},
   "outputs": [
    {
     "name": "stdout",
     "output_type": "stream",
     "text": [
      "                                       Taille moyenne (cm)  \\\n",
      "Taille moyenne (cm)                                    NaN   \n",
      "Fréquence de l'haplogroupe I-M170 (%)             0.401843   \n",
      "\n",
      "                                       Fréquence de l'haplogroupe I-M170 (%)  \n",
      "Taille moyenne (cm)                                                 0.401843  \n",
      "Fréquence de l'haplogroupe I-M170 (%)                                    NaN  \n",
      "                                       Taille moyenne (cm)  \\\n",
      "Taille moyenne (cm)                                    NaN   \n",
      "Fréquence de l'haplogroupe I-M170 (%)             0.777115   \n",
      "\n",
      "                                       Fréquence de l'haplogroupe I-M170 (%)  \n",
      "Taille moyenne (cm)                                                 0.777115  \n",
      "Fréquence de l'haplogroupe I-M170 (%)                                    NaN  \n"
     ]
    }
   ],
   "source": [
    "sZ = math.sqrt(1/(len(data)-3))\n",
    "Z = (np.log(1+corr)-np.log(1-corr))/2\n",
    "Z_inf = Z - 1.96*sZ\n",
    "Z_sup = Z + 1.96*sZ\n",
    "inf = (np.exp(2*Z_inf)-1)/(np.exp(2*Z_inf)+1)\n",
    "sup = (np.exp(2*Z_sup)-1)/(np.exp(2*Z_sup)+1)\n",
    "\n",
    "print(inf)\n",
    "print(sup)"
   ]
  },
  {
   "cell_type": "raw",
   "id": "9407e917",
   "metadata": {},
   "source": [
    "On est sûr a 95% que la mutation explique, entre borne_inf et born_sup, la variance observée dans la taille moyenne."
   ]
  }
 ],
 "metadata": {
  "kernelspec": {
   "display_name": "Python 3 (ipykernel)",
   "language": "python",
   "name": "python3"
  },
  "language_info": {
   "codemirror_mode": {
    "name": "ipython",
    "version": 3
   },
   "file_extension": ".py",
   "mimetype": "text/x-python",
   "name": "python",
   "nbconvert_exporter": "python",
   "pygments_lexer": "ipython3",
   "version": "3.9.7"
  }
 },
 "nbformat": 4,
 "nbformat_minor": 5
}
