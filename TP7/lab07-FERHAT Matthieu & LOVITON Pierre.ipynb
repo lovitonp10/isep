{
 "cells": [
  {
   "cell_type": "code",
   "execution_count": 1,
   "metadata": {},
   "outputs": [],
   "source": [
    "###############################################################################\n",
    "# OPTIMIZATION & AI - LAB 07 - FERHAT Matthieu & LOVITON Pierre\n",
    "###############################################################################"
   ]
  },
  {
   "cell_type": "code",
   "execution_count": 3,
   "metadata": {},
   "outputs": [],
   "source": [
    "# System imports\n",
    "import random\n",
    "\n",
    "# Extra library imports\n",
    "import numpy as np\n",
    "import pandas as pd\n",
    "from scipy.optimize import linprog"
   ]
  },
  {
   "cell_type": "code",
   "execution_count": 4,
   "metadata": {},
   "outputs": [],
   "source": [
    "#User inputs\n",
    "csvpath = 'choices-v1.csv'\n",
    "csvpath2 = 'choices-v2.csv'"
   ]
  },
  {
   "cell_type": "markdown",
   "metadata": {},
   "source": [
    "Assignment problems consist in associating agents to tasks in order to optimize an objective function. In fact, assigment problems are widely used, and may have crucial consequences in your everyday life, for example when a plateform assigns students to schools, according to their preferences, but also the grades they obtained, the available space in each school...\n",
    "\n",
    "\n",
    "In this lab, we will try to assign projects to students so that they get as satisfied as possible! Many approaches can be used, but to conclude on the pure optimization part of this course, we choose to formulate and solve this problem using simulated annealing... and linear programming!"
   ]
  },
  {
   "cell_type": "markdown",
   "metadata": {},
   "source": [
    "# I. Optimized assignment of 10 projects to 10 students"
   ]
  },
  {
   "cell_type": "markdown",
   "metadata": {},
   "source": [
    "## a) Data loading"
   ]
  },
  {
   "cell_type": "markdown",
   "metadata": {},
   "source": [
    "The AI & BI course was created this year! Because it was optional, only 10 students registered to it. To conclude the course, each student has to choose a project among 10 possibilities. At the end, each student will work on a different project. Because the teacher is nice, he asked the students their order of preferences to assign each of them to a different project. Let's have a look at these choices!"
   ]
  },
  {
   "cell_type": "markdown",
   "metadata": {},
   "source": [
    "<font color='blue'> Question 1: load the 'choices-v1.csv' file using Pandas, and get automatically the number of students and projects. Display also the first five rows. Save the matrix containing only the rank values into the \"rank_arr\" variable. </font>"
   ]
  },
  {
   "cell_type": "code",
   "execution_count": 106,
   "metadata": {},
   "outputs": [
    {
     "name": "stdout",
     "output_type": "stream",
     "text": [
      "10 students and 10 projects\n"
     ]
    },
    {
     "data": {
      "text/html": [
       "<div>\n",
       "<style scoped>\n",
       "    .dataframe tbody tr th:only-of-type {\n",
       "        vertical-align: middle;\n",
       "    }\n",
       "\n",
       "    .dataframe tbody tr th {\n",
       "        vertical-align: top;\n",
       "    }\n",
       "\n",
       "    .dataframe thead th {\n",
       "        text-align: right;\n",
       "    }\n",
       "</style>\n",
       "<table border=\"1\" class=\"dataframe\">\n",
       "  <thead>\n",
       "    <tr style=\"text-align: right;\">\n",
       "      <th></th>\n",
       "      <th>Student_id</th>\n",
       "      <th>Project_01</th>\n",
       "      <th>Project_02</th>\n",
       "      <th>Project_03</th>\n",
       "      <th>Project_04</th>\n",
       "      <th>Project_05</th>\n",
       "      <th>Project_06</th>\n",
       "      <th>Project_07</th>\n",
       "      <th>Project_08</th>\n",
       "      <th>Project_09</th>\n",
       "      <th>Project_10</th>\n",
       "    </tr>\n",
       "  </thead>\n",
       "  <tbody>\n",
       "    <tr>\n",
       "      <th>0</th>\n",
       "      <td>stud-01</td>\n",
       "      <td>10</td>\n",
       "      <td>6</td>\n",
       "      <td>7</td>\n",
       "      <td>4</td>\n",
       "      <td>2</td>\n",
       "      <td>8</td>\n",
       "      <td>3</td>\n",
       "      <td>1</td>\n",
       "      <td>9</td>\n",
       "      <td>5</td>\n",
       "    </tr>\n",
       "    <tr>\n",
       "      <th>1</th>\n",
       "      <td>stud-02</td>\n",
       "      <td>7</td>\n",
       "      <td>1</td>\n",
       "      <td>10</td>\n",
       "      <td>9</td>\n",
       "      <td>6</td>\n",
       "      <td>3</td>\n",
       "      <td>8</td>\n",
       "      <td>4</td>\n",
       "      <td>5</td>\n",
       "      <td>2</td>\n",
       "    </tr>\n",
       "    <tr>\n",
       "      <th>2</th>\n",
       "      <td>stud-03</td>\n",
       "      <td>9</td>\n",
       "      <td>6</td>\n",
       "      <td>8</td>\n",
       "      <td>7</td>\n",
       "      <td>4</td>\n",
       "      <td>2</td>\n",
       "      <td>1</td>\n",
       "      <td>10</td>\n",
       "      <td>3</td>\n",
       "      <td>5</td>\n",
       "    </tr>\n",
       "    <tr>\n",
       "      <th>3</th>\n",
       "      <td>stud-04</td>\n",
       "      <td>1</td>\n",
       "      <td>9</td>\n",
       "      <td>2</td>\n",
       "      <td>10</td>\n",
       "      <td>5</td>\n",
       "      <td>6</td>\n",
       "      <td>7</td>\n",
       "      <td>3</td>\n",
       "      <td>8</td>\n",
       "      <td>4</td>\n",
       "    </tr>\n",
       "    <tr>\n",
       "      <th>4</th>\n",
       "      <td>stud-05</td>\n",
       "      <td>8</td>\n",
       "      <td>3</td>\n",
       "      <td>9</td>\n",
       "      <td>2</td>\n",
       "      <td>6</td>\n",
       "      <td>1</td>\n",
       "      <td>4</td>\n",
       "      <td>10</td>\n",
       "      <td>7</td>\n",
       "      <td>5</td>\n",
       "    </tr>\n",
       "  </tbody>\n",
       "</table>\n",
       "</div>"
      ],
      "text/plain": [
       "  Student_id  Project_01  Project_02  Project_03  Project_04  Project_05  \\\n",
       "0    stud-01          10           6           7           4           2   \n",
       "1    stud-02           7           1          10           9           6   \n",
       "2    stud-03           9           6           8           7           4   \n",
       "3    stud-04           1           9           2          10           5   \n",
       "4    stud-05           8           3           9           2           6   \n",
       "\n",
       "   Project_06  Project_07  Project_08  Project_09  Project_10  \n",
       "0           8           3           1           9           5  \n",
       "1           3           8           4           5           2  \n",
       "2           2           1          10           3           5  \n",
       "3           6           7           3           8           4  \n",
       "4           1           4          10           7           5  "
      ]
     },
     "execution_count": 106,
     "metadata": {},
     "output_type": "execute_result"
    }
   ],
   "source": [
    "# Load the csv file\n",
    "df = pd.read_csv('choices-v1.csv')\n",
    "\n",
    "# Get automatically the number of students and projects\n",
    "nb_students = df.shape[0]\n",
    "nb_projects = df.shape[1]-1\n",
    "print('{0} students and {1} projects'.format(nb_students,\n",
    "                                             nb_projects))\n",
    "\n",
    "# Create the rank array (size nb_students x nb_projects)\n",
    "rank_arr = np.array(df.drop(['Student_id'],axis=1))\n",
    "\n",
    "# Display the first five rows\n",
    "df.head()"
   ]
  },
  {
   "cell_type": "markdown",
   "metadata": {},
   "source": [
    "We see that the first choice (with rank 1) of the first student is project 8, while his last choice (with rank 10) is the first project. We also see that each student had to rank all the projects, since each row contains all the integer values from 1 to 10.\n",
    "Our assignment problem consists in assigning one project to one student. Doing a quick calculation, you should realize that brute-force is not applicable."
   ]
  },
  {
   "cell_type": "markdown",
   "metadata": {},
   "source": [
    "<font color='blue'> Question 2: what is the number of possible solutions? Write it as a function of the number of students (or projects).</font>"
   ]
  },
  {
   "cell_type": "code",
   "execution_count": 69,
   "metadata": {},
   "outputs": [
    {
     "name": "stdout",
     "output_type": "stream",
     "text": [
      "3628800 possible solutions\n"
     ]
    }
   ],
   "source": [
    "# Number of possible solutions\n",
    "def possible_sol(nb_projects):\n",
    "    facto = 1\n",
    "    for i in range (1,nb_projects+1):\n",
    "        facto = facto*i\n",
    "    return facto\n",
    "\n",
    "nb_sols = possible_sol(nb_projects)\n",
    "print('{0} possible solutions'.format(nb_sols))"
   ]
  },
  {
   "cell_type": "markdown",
   "metadata": {},
   "source": [
    "To optimize the assignment of one project to one student, we want to minimize the sum of the ranks of the selected projects. In fact, we can optimize this loss recognizing... a  **traveling salesman problem (TSP)**!\n",
    "\n",
    "To that purpose, we create a graph with nb_students + nb_projects nodes, each node being associated with a student or a project. We have to create edges from each student node to each project node, associated with the rank. To obtain Hamiltonian cycles, we have to add edges from each project node to each student node, with cost $\\epsilon$ (a small value compared to the minimal rank).\n",
    "Thus, we can find the length of the Hamiltonian cycle starting from and ending to the node $S_1$ associated with the first project. The principle is illustrated in the given figure 'help.png'. The weighted adjacency matrix in this figure also illustrates that this is an asymmetric TSP...\n",
    "\n",
    "We have now to compute this weighted adjacency matrix!"
   ]
  },
  {
   "cell_type": "markdown",
   "metadata": {},
   "source": [
    "<font color='blue'> Question 3: compute the weighted adjacency matrix of our graph to formulate the assignment problem as a traveling salesman problem. Set $\\epsilon$ to 0,1. </font>"
   ]
  },
  {
   "cell_type": "code",
   "execution_count": 376,
   "metadata": {},
   "outputs": [
    {
     "data": {
      "text/plain": [
       "'# Fixed parameter\\neps = 0.1\\n\\n# Compute the weighted adjacency matrix\\na = np.c_[np.zeros([nb_students,nb_students]), rank_arr]\\nb = np.c_[np.full((nb_projects, nb_projects), eps),np.zeros([nb_students,nb_students])] \\n\\nA_arr = np.r_[a,b]'"
      ]
     },
     "execution_count": 376,
     "metadata": {},
     "output_type": "execute_result"
    }
   ],
   "source": [
    "'''# Fixed parameter\n",
    "eps = 0.1\n",
    "\n",
    "# Compute the weighted adjacency matrix\n",
    "a = np.c_[np.zeros([nb_students,nb_students]), rank_arr]\n",
    "b = np.c_[np.full((nb_projects, nb_projects), eps),np.zeros([nb_students,nb_students])] \n",
    "\n",
    "A_arr = np.r_[a,b]'''"
   ]
  },
  {
   "cell_type": "code",
   "execution_count": 177,
   "metadata": {},
   "outputs": [],
   "source": [
    "# Fixed parameter\n",
    "eps = 0.1\n",
    "\n",
    "# Compute the weighted adjacency matrix\n",
    "A_arr = np.zeros((nb_students + nb_projects,\n",
    "                  nb_students + nb_projects))\n",
    "\n",
    "A_arr[nb_students:nb_students + nb_projects, 0:nb_students] = eps\n",
    "A_arr[0:0+rank_arr.shape[0], nb_students:nb_students+rank_arr.shape[1]] = rank_arr"
   ]
  },
  {
   "cell_type": "markdown",
   "metadata": {},
   "source": [
    "We have now to compute an initial solution x0, which is a cycle. A cycle, as we saw during the course, is a sequence of adjacent nodes starting from and ending to the same node (associated with stud-01 in our case). Because of our formulation, a cycle must alternates nodes with index in [0, nb_students - 1] (student node) and nodes with index in [nb_students, nb_students + nb_projects - 1] (project node).\n",
    "\n",
    "We choose a **nearest neighbours approach**. More precisely, we first select the node with index 0 (stud-01) and associate it with the project of minimal rank (Project_08). Thus, Project_08 cannot be associated to any other student. We then select the node with index 1 (stud-02) and associate it with the remaining project of minimal rank (Project_02). We continue and so on, until there is no couple of student/project to associate. Do not forget to loop to node 0 to obtain a cycle !"
   ]
  },
  {
   "cell_type": "markdown",
   "metadata": {},
   "source": [
    "<font color='blue'> Question 4: compute the initial solution using the proposed nearest neighbours approach. </font>"
   ]
  },
  {
   "cell_type": "code",
   "execution_count": 181,
   "metadata": {},
   "outputs": [
    {
     "data": {
      "text/plain": [
       "'# Initialize the solution using nearest neighbours\\nx0 = []\\nnew_arr = A_arr\\nidx = []\\nlst= []\\nfor i in range (nb_students):\\n    x0.append(i)\\n    lst = new_arr[i,nb_projects:]\\n    for ii in range (len(lst)):\\n        if np.min(lst) not in idx:\\n            x0.append(int((np.where(new_arr[i]==np.min(lst)))[0]))\\n            break\\n        else :\\n            lst.remove(np.min(lst))\\nx0.append(0)\\n# Display the initial solution\\nprint(x0)'"
      ]
     },
     "execution_count": 181,
     "metadata": {},
     "output_type": "execute_result"
    }
   ],
   "source": [
    "'''# Initialize the solution using nearest neighbours\n",
    "x0 = []\n",
    "new_arr = A_arr\n",
    "idx = []\n",
    "lst= []\n",
    "for i in range (nb_students):\n",
    "    x0.append(i)\n",
    "    lst = new_arr[i,nb_projects:]\n",
    "    for ii in range (len(lst)):\n",
    "        if np.min(lst) not in idx:\n",
    "            x0.append(int((np.where(new_arr[i]==np.min(lst)))[0]))\n",
    "            break\n",
    "        else :\n",
    "            lst.remove(np.min(lst))\n",
    "x0.append(0)\n",
    "# Display the initial solution\n",
    "print(x0)'''"
   ]
  },
  {
   "cell_type": "code",
   "execution_count": 182,
   "metadata": {},
   "outputs": [
    {
     "name": "stdout",
     "output_type": "stream",
     "text": [
      "[0, 17, 1, 11, 2, 16, 3, 10, 4, 15, 5, 19, 6, 18, 7, 13, 8, 14, 9, 12, 0]\n"
     ]
    }
   ],
   "source": [
    "# Initialize the solution using nearest neighbours\n",
    "init = 0\n",
    "x0=[]\n",
    "idxs=[]\n",
    "for i in A_arr[0:10]:\n",
    "    for j in idxs:\n",
    "        i[j]=20\n",
    "    idx = np.argmin(i[10:20])\n",
    "    idxs.append(idx+10)\n",
    "    x0.append(init)\n",
    "    x0.append(idx+10)\n",
    "    init+=1\n",
    "    \n",
    "x0.append(0)\n",
    "    \n",
    "print(x0)"
   ]
  },
  {
   "cell_type": "markdown",
   "metadata": {},
   "source": [
    "You should have the following (here incomplete) list: [0, 17, 1, 11, ..., 0]\n",
    "\n",
    "To compute the loss we want to minimize in our graph formulation, namely the length of the optimal cycle, you can write the following command:"
   ]
  },
  {
   "cell_type": "code",
   "execution_count": 11,
   "metadata": {},
   "outputs": [],
   "source": [
    "n =20"
   ]
  },
  {
   "cell_type": "code",
   "execution_count": 12,
   "metadata": {},
   "outputs": [
    {
     "data": {
      "text/plain": [
       "25.000000000000004"
      ]
     },
     "execution_count": 12,
     "metadata": {},
     "output_type": "execute_result"
    }
   ],
   "source": [
    "np.sum(A_arr[x0[:n], x0[1:]]) "
   ]
  },
  {
   "cell_type": "markdown",
   "metadata": {},
   "source": [
    "To get the real loss, namely the sum of the rank of each selected project, we have to remove the artificially added costs $\\epsilon$ , and the cost between the last selected project node and the first project node (added to make the loop):"
   ]
  },
  {
   "cell_type": "code",
   "execution_count": 13,
   "metadata": {},
   "outputs": [
    {
     "data": {
      "text/plain": [
       "23.900000000000002"
      ]
     },
     "execution_count": 13,
     "metadata": {},
     "output_type": "execute_result"
    }
   ],
   "source": [
    "np.sum(A_arr[x0[:n-1], x0[1:n]]) - eps * n * 0.5"
   ]
  },
  {
   "cell_type": "markdown",
   "metadata": {},
   "source": [
    "Our initial solution is not so bad... but we can improve it, for example using simulated annealing!\n",
    "We will use the same notion of neighborhood as in the previous lab. However, to ensure that we still can obtain a cycle, we have to permute either two student nodes or two project nodes. We choose to **permute two project nodes to define the neighbor solution**."
   ]
  },
  {
   "cell_type": "markdown",
   "metadata": {},
   "source": [
    "<font color='blue'> Question 5: complete the function below to perform simulated annealing.</font>"
   ]
  },
  {
   "cell_type": "code",
   "execution_count": 112,
   "metadata": {},
   "outputs": [],
   "source": [
    "def sa(A_arr, x0, T0, tau, nb_its):\n",
    "    \"\"\" Optimization using simulated annealing\n",
    "        \n",
    "    Parameters\n",
    "    ----------\n",
    "    A_arr: square array of size \n",
    "    (nb_projects + nb_students) x (nb_projects + nb_students)\n",
    "        the weighted adjacency matrix\n",
    "    x0: list/tuple of positive integers of size (nb_projects + nb_students)\n",
    "        initial path\n",
    "    T0: float\n",
    "        temperature parameter\n",
    "    tau: float\n",
    "        temperature decrease hyperparameter\n",
    "    nb_its: strictly positive integer\n",
    "        number of iterations\n",
    "        \n",
    "    Returns\n",
    "    -------\n",
    "    x: array of positive integers of size (nb_projects + nb_students)\n",
    "        vector of selected indexes after optimization\n",
    "    losses: list of floats\n",
    "        vector of loss values over the iterations\n",
    "        \n",
    "    Command:\n",
    "     x, losses = sa(A_arr, x0, T0, tau, nb_its)\n",
    "    \"\"\"  \n",
    "    \n",
    "    # Number of projects + students\n",
    "    n = len(x0) - 1\n",
    "    \n",
    "    # Initialize the loss vector\n",
    "    losses = []\n",
    "    \n",
    "    # Initialize the temperature\n",
    "    T = np.copy(T0)\n",
    "    \n",
    "    # Initialize the vector of solutions\n",
    "    x = np.copy(x0)\n",
    "    \n",
    "    # Vector of node identifiers (looping to 0)\n",
    "    node_ids = list(range(n))\n",
    "    node_ids.append(0)\n",
    "    \n",
    "\n",
    "\n",
    "    # Iterative process\n",
    "    for it in range(nb_its):\n",
    "\n",
    "        \n",
    "        # Random permutation of two projects' nodes\n",
    "        a = random.sample(range(10,20),2)\n",
    "        x2 = list(np.copy(x))\n",
    "        x2[x2.index(a[0])]=a[1]\n",
    "        x2[x2.index(a[1])]=a[0]\n",
    "\n",
    "        # Compute the loss of the current solution\n",
    "        # (length of the optimal cycle)\n",
    "        loss_arr_1 = A_arr[x[:n-1], x[1:n]] \n",
    "        loss1 = np.sum(loss_arr_1[loss_arr_1 > eps])\n",
    "        \n",
    "        # Compute the loss of the neighbor solution \n",
    "        # (length of the candidate cycle)\n",
    "        loss_arr_2 = A_arr[x2[:n-1], x2[1:n]] \n",
    "        loss2 = np.sum(loss_arr_2[loss_arr_2 > eps])\n",
    "        \n",
    "        # Perform the simulated annealing step\n",
    "        # Compute the difference between the two solutions\n",
    "        delta = loss2-loss1\n",
    "        \n",
    "        # Perform the simulated annealing step\n",
    "        if delta <= 0:\n",
    "            x =x2\n",
    "            new_loss = loss2\n",
    "        else:\n",
    "            if random.random() <= np.exp(-delta/T):\n",
    "                x =x2\n",
    "                new_loss = loss2\n",
    "            else:\n",
    "                new_loss = loss1\n",
    "         \n",
    "        # Update the temperature hyperparameter        \n",
    "        T = T * tau \n",
    "    \n",
    "        # Update the loss vector\n",
    "        losses.append(new_loss)\n",
    "        \n",
    "    return x, losses"
   ]
  },
  {
   "cell_type": "markdown",
   "metadata": {},
   "source": [
    "<font color='blue'> Question 6: run simulated annealing 100 times starting from $x_0$, setting each time $\\tau=0.9$, $T_0$=nb_projects (or nb_students) and 100 iterations. Knowing that the expected optimal loss value, *i.e.* the sum of the ranks of the selected projects, should be 17, what is your percentage of success? Comment.</font>"
   ]
  },
  {
   "cell_type": "code",
   "execution_count": 171,
   "metadata": {},
   "outputs": [
    {
     "name": "stdout",
     "output_type": "stream",
     "text": [
      "The optimized loss value is 17.0\n"
     ]
    }
   ],
   "source": [
    "# Hyperparameter setting\n",
    "T0 = nb_projects \n",
    "tau = 0.9\n",
    "nb_its = 100\n",
    "\n",
    "\n",
    "# Optimization using Simulated Annealing\n",
    "x,losses = sa(A_arr, x0, T0, tau, nb_its)\n",
    "# Display the optimized loss value\n",
    "print(\"The optimized loss value is\",losses[-1])"
   ]
  },
  {
   "cell_type": "code",
   "execution_count": 174,
   "metadata": {
    "scrolled": true
   },
   "outputs": [
    {
     "name": "stdout",
     "output_type": "stream",
     "text": [
      "Percentage of success: 10.0 %\n"
     ]
    }
   ],
   "source": [
    "final_losses = []\n",
    "\n",
    "for i in range(100):\n",
    "    x, losses = sa(A_arr, x0, T0, tau, nb_its)\n",
    "    final_losses.append(int(losses[-1]))\n",
    "\n",
    "ratio_17 = np.bincount(final_losses)[17] / len(final_losses)\n",
    "print(f'Percentage of success: {ratio_17*100} %')"
   ]
  },
  {
   "cell_type": "markdown",
   "metadata": {},
   "source": [
    "#### How many combinations are possible ? Compute the one giving the best mean rank over the selected projects. Until how many students can you use this method to get the best score in a reasonable time ?"
   ]
  },
  {
   "cell_type": "markdown",
   "metadata": {},
   "source": [
    "# I. Optimized assignment of 10 projects to 30 students"
   ]
  },
  {
   "cell_type": "markdown",
   "metadata": {},
   "source": [
    "The AI & BI course was so popular last year that this year, 30 students registered to this course. This is a success! However, the teacher chooses to let the number of projects inchanged, but to allow students to be working together. Thus, there are more students than projects. Let's have a look at the choices of the new students!"
   ]
  },
  {
   "cell_type": "markdown",
   "metadata": {},
   "source": [
    "<font color='blue'> Question 7: load the 'choices-v2.csv' file using Pandas, and get automatically the number of students and projects. Display also the first five rows. Save the matrix containing only the rank values into the \"rank_arr\" variable. </font>"
   ]
  },
  {
   "cell_type": "code",
   "execution_count": 183,
   "metadata": {},
   "outputs": [
    {
     "name": "stdout",
     "output_type": "stream",
     "text": [
      "30 students and 10 projects\n"
     ]
    },
    {
     "data": {
      "text/html": [
       "<div>\n",
       "<style scoped>\n",
       "    .dataframe tbody tr th:only-of-type {\n",
       "        vertical-align: middle;\n",
       "    }\n",
       "\n",
       "    .dataframe tbody tr th {\n",
       "        vertical-align: top;\n",
       "    }\n",
       "\n",
       "    .dataframe thead th {\n",
       "        text-align: right;\n",
       "    }\n",
       "</style>\n",
       "<table border=\"1\" class=\"dataframe\">\n",
       "  <thead>\n",
       "    <tr style=\"text-align: right;\">\n",
       "      <th></th>\n",
       "      <th>Student_id</th>\n",
       "      <th>Project_01</th>\n",
       "      <th>Project_02</th>\n",
       "      <th>Project_03</th>\n",
       "      <th>Project_04</th>\n",
       "      <th>Project_05</th>\n",
       "      <th>Project_06</th>\n",
       "      <th>Project_07</th>\n",
       "      <th>Project_08</th>\n",
       "      <th>Project_09</th>\n",
       "      <th>Project_10</th>\n",
       "    </tr>\n",
       "  </thead>\n",
       "  <tbody>\n",
       "    <tr>\n",
       "      <th>0</th>\n",
       "      <td>stud-01</td>\n",
       "      <td>3</td>\n",
       "      <td>4</td>\n",
       "      <td>7</td>\n",
       "      <td>10</td>\n",
       "      <td>6</td>\n",
       "      <td>1</td>\n",
       "      <td>8</td>\n",
       "      <td>2</td>\n",
       "      <td>5</td>\n",
       "      <td>9</td>\n",
       "    </tr>\n",
       "    <tr>\n",
       "      <th>1</th>\n",
       "      <td>stud-02</td>\n",
       "      <td>2</td>\n",
       "      <td>1</td>\n",
       "      <td>5</td>\n",
       "      <td>3</td>\n",
       "      <td>10</td>\n",
       "      <td>6</td>\n",
       "      <td>8</td>\n",
       "      <td>4</td>\n",
       "      <td>7</td>\n",
       "      <td>9</td>\n",
       "    </tr>\n",
       "    <tr>\n",
       "      <th>2</th>\n",
       "      <td>stud-03</td>\n",
       "      <td>4</td>\n",
       "      <td>3</td>\n",
       "      <td>6</td>\n",
       "      <td>1</td>\n",
       "      <td>9</td>\n",
       "      <td>2</td>\n",
       "      <td>5</td>\n",
       "      <td>8</td>\n",
       "      <td>7</td>\n",
       "      <td>10</td>\n",
       "    </tr>\n",
       "    <tr>\n",
       "      <th>3</th>\n",
       "      <td>stud-04</td>\n",
       "      <td>4</td>\n",
       "      <td>9</td>\n",
       "      <td>1</td>\n",
       "      <td>2</td>\n",
       "      <td>3</td>\n",
       "      <td>5</td>\n",
       "      <td>8</td>\n",
       "      <td>10</td>\n",
       "      <td>7</td>\n",
       "      <td>6</td>\n",
       "    </tr>\n",
       "    <tr>\n",
       "      <th>4</th>\n",
       "      <td>stud-05</td>\n",
       "      <td>3</td>\n",
       "      <td>6</td>\n",
       "      <td>4</td>\n",
       "      <td>9</td>\n",
       "      <td>7</td>\n",
       "      <td>1</td>\n",
       "      <td>2</td>\n",
       "      <td>5</td>\n",
       "      <td>8</td>\n",
       "      <td>10</td>\n",
       "    </tr>\n",
       "  </tbody>\n",
       "</table>\n",
       "</div>"
      ],
      "text/plain": [
       "  Student_id  Project_01  Project_02  Project_03  Project_04  Project_05  \\\n",
       "0    stud-01           3           4           7          10           6   \n",
       "1    stud-02           2           1           5           3          10   \n",
       "2    stud-03           4           3           6           1           9   \n",
       "3    stud-04           4           9           1           2           3   \n",
       "4    stud-05           3           6           4           9           7   \n",
       "\n",
       "   Project_06  Project_07  Project_08  Project_09  Project_10  \n",
       "0           1           8           2           5           9  \n",
       "1           6           8           4           7           9  \n",
       "2           2           5           8           7          10  \n",
       "3           5           8          10           7           6  \n",
       "4           1           2           5           8          10  "
      ]
     },
     "execution_count": 183,
     "metadata": {},
     "output_type": "execute_result"
    }
   ],
   "source": [
    "# Load the csv file\n",
    "df = pd.read_csv('choices-v2.csv')\n",
    "\n",
    "# Get automatically the number of students and projects\n",
    "nb_students = df.shape[0]\n",
    "nb_projects = df.shape[1]-1\n",
    "print('{0} students and {1} projects'.format(nb_students, nb_projects))\n",
    "\n",
    "# Create the rank array (size nb_students x nb_projects)\n",
    "rank_arr = np.array(df.drop(['Student_id'],axis=1))\n",
    "\n",
    "\n",
    "# Display the first five rows\n",
    "df.head()"
   ]
  },
  {
   "cell_type": "markdown",
   "metadata": {},
   "source": [
    "Because there are 30 students and 10 projects, the teacher chooses to allow students to work in **group of maximum 3 students**.\n",
    "This situation cannot be formulated as a TSP, since a project node could be visited up to 3 times.\n",
    "However, we can notice that limiting a project to 3 students is a constraint... thus, we can use linear programming instead!\n",
    "The problem to solve can be formulated as:\n",
    "\n",
    "$\\displaystyle \\min_{x_{ij}} \\sum_{i=1}^{n_s}\\sum_{j=1}^{n_p} x_{ij}r_{ij}\n",
    "\\, s.t. \\begin{cases}\n",
    "\\displaystyle \\sum_{j=1}^{n_p} x_{ij} = 1 \\forall i \\in [1, n_s]\\\\\n",
    "\\displaystyle \\sum_{i=1}^{n_s} x_{ij} \\leq m_j \\forall j \\in [1, n_p]\\\\\n",
    "0 \\leq x_{ij} \\leq 1 \\forall i \\in [1, n_s], j \\in [1, n_p]\n",
    "\\end{cases}$\n",
    "\n",
    "with $n_s$ the number of students, $n_p$ the number of projects, $m_j$ the maximum number of students allowed to work on project $j$, $r_{ij}$ the rank given by student $i$ to project $j$, and $x_{ij}$ the $n_s * n_p$ variables to optimize, representing the decision to assign student i to project j ($x_{ij}=1$ if student i get project j, $x_{ij}=0$ otherwise).\n",
    "The 3 constraints are justified by the following reasons:\n",
    "- one student can choose only one project\n",
    "- each project $j$ is limited to $m_j$ students\n",
    "- $x_{ij}$ represents the binary decision to assign or not student $i$ to project $j$"
   ]
  },
  {
   "cell_type": "markdown",
   "metadata": {},
   "source": [
    "<font color='blue'> Question 8: complete the following code to solve our assignment problem using linear programming. Did we got no more than 3 students working on each project? Compute the sum of the ranks of the selected projects. </font>"
   ]
  },
  {
   "cell_type": "code",
   "execution_count": 374,
   "metadata": {},
   "outputs": [
    {
     "name": "stdout",
     "output_type": "stream",
     "text": [
      "     con: array([0., 0., 0., 0., 0., 0., 0., 0., 0., 0., 0., 0., 0., 0., 0., 0., 0.,\n",
      "       0., 0., 0., 0., 0., 0., 0., 0., 0., 0., 0., 0., 0.])\n",
      "     fun: 37.0\n",
      " message: 'Optimization terminated successfully.'\n",
      "     nit: 423\n",
      "   slack: array([0., 0., 0., 0., 0., 0., 0., 0., 0., 0.])\n",
      "  status: 0\n",
      " success: True\n",
      "       x: array([0., 0., 0., 0., 0., 1., 0., 0., 0., 0., 1., 0., 0., 0., 0., 0., 0.,\n",
      "       0., 0., 0., 0., 0., 0., 1., 0., 0., 0., 0., 0., 0., 0., 0., 0., 0.,\n",
      "       1., 0., 0., 0., 0., 0., 0., 0., 0., 0., 0., 1., 0., 0., 0., 0., 0.,\n",
      "       0., 0., 0., 0., 0., 0., 0., 1., 0., 0., 0., 0., 0., 1., 0., 0., 0.,\n",
      "       0., 0., 0., 0., 0., 0., 0., 0., 0., 1., 0., 0., 0., 1., 0., 0., 0.,\n",
      "       0., 0., 0., 0., 0., 0., 1., 0., 0., 0., 0., 0., 0., 0., 0., 1., 0.,\n",
      "       0., 0., 0., 0., 0., 0., 0., 0., 1., 0., 0., 0., 0., 0., 0., 0., 0.,\n",
      "       0., 0., 0., 0., 0., 0., 0., 0., 0., 1., 0., 0., 0., 0., 0., 0., 0.,\n",
      "       0., 1., 0., 0., 0., 1., 0., 0., 0., 0., 0., 0., 0., 0., 0., 0., 0.,\n",
      "       0., 0., 0., 0., 0., 1., 0., 0., 0., 0., 0., 1., 0., 0., 0., 0., 0.,\n",
      "       0., 0., 1., 0., 0., 0., 0., 0., 0., 0., 0., 0., 0., 0., 0., 0., 0.,\n",
      "       0., 0., 1., 0., 0., 1., 0., 0., 0., 0., 0., 0., 0., 0., 0., 0., 0.,\n",
      "       0., 0., 0., 0., 0., 1., 0., 0., 0., 0., 0., 0., 1., 0., 0., 0., 0.,\n",
      "       0., 0., 0., 0., 0., 0., 1., 0., 0., 0., 0., 0., 0., 0., 1., 0., 0.,\n",
      "       0., 0., 0., 0., 0., 0., 0., 0., 0., 0., 0., 1., 0., 0., 0., 0., 0.,\n",
      "       0., 1., 0., 0., 0., 0., 0., 1., 0., 0., 0., 0., 0., 0., 0., 0., 0.,\n",
      "       0., 1., 0., 0., 0., 0., 0., 0., 0., 0., 0., 0., 0., 0., 1., 0., 0.,\n",
      "       0., 0., 0., 0., 1., 0., 0., 0., 0., 0., 0.]) \n",
      "\n",
      "Project 0 has 3 Students\n",
      "Project 1 has 3 Students\n",
      "Project 2 has 3 Students\n",
      "Project 3 has 3 Students\n",
      "Project 4 has 3 Students\n",
      "Project 5 has 3 Students\n",
      "Project 6 has 3 Students\n",
      "Project 7 has 3 Students\n",
      "Project 8 has 3 Students\n",
      "Project 9 has 3 Students\n",
      "\n",
      "The sum of the ranks of the selected projects is : 37\n"
     ]
    }
   ],
   "source": [
    "###................................Completed...............................###\n",
    "\n",
    "# Set the coefficients of the linear objective function to be minimized\n",
    "c = rank_arr.flatten()\n",
    "\n",
    "\n",
    "# Set the inequality constraint matrix\n",
    "A_ub = np.zeros((nb_projects,nb_projects*nb_students))\n",
    "\n",
    "for i in range(nb_projects):\n",
    "    for j in range(nb_students):\n",
    "        A_ub[i,j*10+i] = 1    \n",
    "\n",
    "# Set the inequality constraint vector\n",
    "b_ub =np.full((nb_projects), 3)#np.full((2,1),3)\n",
    "\n",
    "# Set the equality constraint matrix\n",
    "A_eq = np.zeros((nb_students,nb_projects*nb_students))\n",
    "\n",
    "for i in range (nb_students):\n",
    "    ii = i*10\n",
    "    j=ii+10\n",
    "    A_eq[i,ii:j] = 1\n",
    "\n",
    "# Set the equality constraint vector\n",
    "b_eq = np.full((nb_students), 1)#np.full((1, nb_students), 1)\n",
    "\n",
    "#Set the bounds\n",
    "bounds = [(0,1)]\n",
    "'''for i in range (nb_projects):\n",
    "    bounds.append((0,1))'''\n",
    "\n",
    "# Perform the optimization using the simplex method\n",
    "res = linprog(c,\n",
    "              A_ub=A_ub, b_ub=b_ub,\n",
    "              A_eq=A_eq, b_eq=b_eq, \n",
    "              method='revised simplex',\n",
    "              bounds=bounds)\n",
    "\n",
    "# Display the optimization result\n",
    "print(res,'\\n')\n",
    "\n",
    "# Get the optimized vector of variables\n",
    "x = res.x\n",
    "x = np.reshape(x, (30,10))\n",
    "\n",
    "# Compute the number of students assigned to each project\n",
    "project_arr = np.count_nonzero(x == 1, axis=0)\n",
    "for i in range (project_arr.shape[0]):\n",
    "    print(\"Project\",i,\"has\",project_arr[i],\"Students\")\n",
    "    \n",
    "# Display the sum of the ranks of the selected projects\n",
    "loss_arr = rank_arr[x==1].sum()\n",
    "print(\"\\nThe sum of the ranks of the selected projects is :\", loss_arr)"
   ]
  },
  {
   "cell_type": "code",
   "execution_count": null,
   "metadata": {},
   "outputs": [],
   "source": []
  }
 ],
 "metadata": {
  "kernelspec": {
   "display_name": "Python 3 (ipykernel)",
   "language": "python",
   "name": "python3"
  },
  "language_info": {
   "codemirror_mode": {
    "name": "ipython",
    "version": 3
   },
   "file_extension": ".py",
   "mimetype": "text/x-python",
   "name": "python",
   "nbconvert_exporter": "python",
   "pygments_lexer": "ipython3",
   "version": "3.9.7"
  }
 },
 "nbformat": 4,
 "nbformat_minor": 2
}
