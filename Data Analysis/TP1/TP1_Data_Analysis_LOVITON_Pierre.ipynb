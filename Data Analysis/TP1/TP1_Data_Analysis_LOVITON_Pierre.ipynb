{
 "cells": [
  {
   "cell_type": "markdown",
   "id": "53e0328f",
   "metadata": {},
   "source": [
    "# A- Manipulation of CSV files for simple statistics and displays"
   ]
  },
  {
   "cell_type": "markdown",
   "id": "1f65f5ca",
   "metadata": {},
   "source": [
    "## 1"
   ]
  },
  {
   "cell_type": "code",
   "execution_count": 414,
   "id": "1311f7c9",
   "metadata": {},
   "outputs": [],
   "source": [
    "import matplotlib as plt\n",
    "import numpy as np\n",
    "import matplotlib.pyplot as plt\n",
    "import pandas as pd\n",
    "from scipy import stats\n",
    "from math import sqrt,pi,exp"
   ]
  },
  {
   "cell_type": "code",
   "execution_count": 415,
   "id": "06eb667f",
   "metadata": {},
   "outputs": [
    {
     "data": {
      "text/plain": [
       "'/Users/pierreloviton/PycharmProjects/test-api/ISEP - Data Analysis/TP1'"
      ]
     },
     "execution_count": 415,
     "metadata": {},
     "output_type": "execute_result"
    }
   ],
   "source": [
    "#print actual path to the repertory\n",
    "import os\n",
    "os.getcwd()"
   ]
  },
  {
   "cell_type": "code",
   "execution_count": 416,
   "id": "7e3f2231",
   "metadata": {},
   "outputs": [],
   "source": [
    "df = pd.read_csv('/Users/pierreloviton/PycharmProjects/test-api/ISEP - Data Analysis/TP1/cockatoo.csv')"
   ]
  },
  {
   "cell_type": "markdown",
   "id": "5095613f",
   "metadata": {},
   "source": [
    "## 2"
   ]
  },
  {
   "cell_type": "code",
   "execution_count": 417,
   "id": "da9eb1e3",
   "metadata": {},
   "outputs": [
    {
     "name": "stdout",
     "output_type": "stream",
     "text": [
      "                   Species  LifeSpan  Size  Weight  ClutchSize  HatchTime\n",
      "0    Nymphicus hollandicus        15    32      90           5         20\n",
      "1  Calyptorhynchus banksii        45    60     742           2         30\n",
      "2  Calyptorhynchus lathami        40    50     435           1         29\n",
      "3            Zanda funerea        40    60     825           2         29\n",
      "4        Zanda latirostris        25    55     655           2         29\n"
     ]
    }
   ],
   "source": [
    "print(df.head())"
   ]
  },
  {
   "cell_type": "code",
   "execution_count": 418,
   "id": "f41b8605",
   "metadata": {},
   "outputs": [
    {
     "name": "stdout",
     "output_type": "stream",
     "text": [
      "(21, 6)\n"
     ]
    }
   ],
   "source": [
    "print(df.shape)"
   ]
  },
  {
   "cell_type": "code",
   "execution_count": 419,
   "id": "938c7ecb",
   "metadata": {},
   "outputs": [],
   "source": [
    "# head() is used to display the 5 first lines et column names of the dataset.\n",
    "# The attribute shape allows you to give the dataset dimensions.\n",
    "\n",
    "# When analyzing larger data, head() and shape() provide a quick view of the dataset.\n",
    "# For example, if the dataset is 100 times larger, head() will always return the first 5 rows\n",
    "# and the shape attribute will always return a tuple."
   ]
  },
  {
   "cell_type": "markdown",
   "id": "1cf89ce9",
   "metadata": {},
   "source": [
    "## 3"
   ]
  },
  {
   "cell_type": "code",
   "execution_count": 420,
   "id": "fdc9c298",
   "metadata": {},
   "outputs": [
    {
     "name": "stdout",
     "output_type": "stream",
     "text": [
      "The average lifespan : 36.71\n"
     ]
    }
   ],
   "source": [
    "# Calcul of the average lifespan\n",
    "LifeSpan_mean = np.mean(df.LifeSpan)\n",
    "print(\"The average lifespan : {0:.2f}\".format(LifeSpan_mean))"
   ]
  },
  {
   "cell_type": "code",
   "execution_count": 421,
   "id": "d48e6d37",
   "metadata": {},
   "outputs": [
    {
     "name": "stdout",
     "output_type": "stream",
     "text": [
      "The variance is : 150.20\n"
     ]
    }
   ],
   "source": [
    "# Calcul of the variance\n",
    "LifeSpan_var = np.var(df.LifeSpan)\n",
    "print(\"The variance is : {0:.2f}\".format(LifeSpan_var))"
   ]
  },
  {
   "cell_type": "code",
   "execution_count": 422,
   "id": "1e7748db",
   "metadata": {},
   "outputs": [
    {
     "name": "stdout",
     "output_type": "stream",
     "text": [
      "The standard deviation is : 12.26\n"
     ]
    }
   ],
   "source": [
    "# Calcul of the standard deviation\n",
    "LifeSpan_std = np.std(df.LifeSpan)\n",
    "print(\"The standard deviation is : {0:.2f}\".format(LifeSpan_std))"
   ]
  },
  {
   "cell_type": "markdown",
   "id": "d55370e0",
   "metadata": {},
   "source": [
    "## 4"
   ]
  },
  {
   "cell_type": "code",
   "execution_count": 35,
   "id": "1c80a276",
   "metadata": {},
   "outputs": [
    {
     "data": {
      "text/plain": [
       "(array([1., 0., 0., 1., 2., 1., 2., 2., 3., 9.]),\n",
       " array([20., 21., 22., 23., 24., 25., 26., 27., 28., 29., 30.]),\n",
       " <BarContainer object of 10 artists>)"
      ]
     },
     "execution_count": 35,
     "metadata": {},
     "output_type": "execute_result"
    },
    {
     "data": {
      "image/png": "[encoded data removed]",
      "text/plain": [
       "<Figure size 432x288 with 1 Axes>"
      ]
     },
     "metadata": {
      "needs_background": "light"
     },
     "output_type": "display_data"
    }
   ],
   "source": [
    "plt.xlabel('HatchTime')\n",
    "plt.ylabel('Number of species')\n",
    "plt.title('Histogram of HatchTime')\n",
    "plt.grid(True)\n",
    "plt.hist(x=df.HatchTime, color ='red')"
   ]
  },
  {
   "cell_type": "code",
   "execution_count": 36,
   "id": "8bf6d3f4",
   "metadata": {},
   "outputs": [
    {
     "data": {
      "text/plain": [
       "(array([1., 1., 5., 2., 2., 2., 3., 1., 3., 1.]),\n",
       " array([  90.,  181.,  272.,  363.,  454.,  545.,  636.,  727.,  818.,\n",
       "         909., 1000.]),\n",
       " <BarContainer object of 10 artists>)"
      ]
     },
     "execution_count": 36,
     "metadata": {},
     "output_type": "execute_result"
    },
    {
     "data": {
      "image/png": "[encoded data removed]",
      "text/plain": [
       "<Figure size 432x288 with 1 Axes>"
      ]
     },
     "metadata": {
      "needs_background": "light"
     },
     "output_type": "display_data"
    }
   ],
   "source": [
    "plt.xlabel('Weight')\n",
    "plt.ylabel('Number of species')\n",
    "plt.title('Histogram of Weight')\n",
    "plt.grid(True)\n",
    "plt.hist(x=df.Weight, color ='green')"
   ]
  },
  {
   "cell_type": "code",
   "execution_count": 37,
   "id": "9e5598e7",
   "metadata": {},
   "outputs": [
    {
     "data": {
      "text/plain": [
       "(array([1., 0., 0., 1., 2., 1., 2., 2., 3., 9.]),\n",
       " array([20., 21., 22., 23., 24., 25., 26., 27., 28., 29., 30.]),\n",
       " <BarContainer object of 10 artists>)"
      ]
     },
     "execution_count": 37,
     "metadata": {},
     "output_type": "execute_result"
    },
    {
     "data": {
      "image/png": "[encoded data removed]",
      "text/plain": [
       "<Figure size 432x288 with 1 Axes>"
      ]
     },
     "metadata": {
      "needs_background": "light"
     },
     "output_type": "display_data"
    }
   ],
   "source": [
    "plt.xlabel('Clutchsize')\n",
    "plt.ylabel('Number of species')\n",
    "plt.title('Histogram of Clutchsize')\n",
    "plt.grid(True)\n",
    "plt.hist(x=df.HatchTime, color ='blue')"
   ]
  },
  {
   "cell_type": "markdown",
   "id": "c9b0820f",
   "metadata": {},
   "source": [
    "# B- Messy data"
   ]
  },
  {
   "cell_type": "markdown",
   "id": "3f9cdc80",
   "metadata": {},
   "source": [
    "## 1"
   ]
  },
  {
   "cell_type": "code",
   "execution_count": 423,
   "id": "7a2087cb",
   "metadata": {
    "scrolled": true
   },
   "outputs": [],
   "source": [
    "df_notes = pd.read_csv('/Users/pierreloviton/PycharmProjects/test-api/ISEP - Data Analysis/TP1/notes.csv', on_bad_lines='skip', sep=';')"
   ]
  },
  {
   "cell_type": "code",
   "execution_count": 424,
   "id": "59b71805",
   "metadata": {},
   "outputs": [],
   "source": [
    "df_notes = df_notes.dropna()"
   ]
  },
  {
   "cell_type": "code",
   "execution_count": 425,
   "id": "91d35ca3",
   "metadata": {
    "scrolled": true
   },
   "outputs": [],
   "source": [
    "df_notes.Lab1 = df_notes.Lab1.str.replace(',','.')\n",
    "df_notes.Lab2 = df_notes.Lab2.str.replace(',','.')\n",
    "df_notes.Lab3 = df_notes.Lab3.str.replace(',','.')\n",
    "df_notes.Lab4 = df_notes.Lab4.str.replace(',','.')\n",
    "df_notes.Lab5 = df_notes.Lab5.str.replace(',','.')\n",
    "df_notes.Lab6 = df_notes.Lab6.str.replace(',','.')\n",
    "df_notes.Lab7 = df_notes.Lab7.str.replace(',','.')\n",
    "df_notes['Final Exam☼'] = df_notes['Final Exam☼'].str.replace(',','.')"
   ]
  },
  {
   "cell_type": "code",
   "execution_count": 426,
   "id": "45b386f0",
   "metadata": {},
   "outputs": [],
   "source": [
    "df_notes.Lab1 = pd.to_numeric(df_notes.Lab1)\n",
    "df_notes.Lab2 = pd.to_numeric(df_notes.Lab2)\n",
    "df_notes.Lab3 = pd.to_numeric(df_notes.Lab3)\n",
    "df_notes.Lab4 = pd.to_numeric(df_notes.Lab4)\n",
    "df_notes.Lab5 = pd.to_numeric(df_notes.Lab5)\n",
    "df_notes.Lab6 = pd.to_numeric(df_notes.Lab6)\n",
    "df_notes.Lab7 = pd.to_numeric(df_notes.Lab7)\n",
    "df_notes['Final Exam☼'] = pd.to_numeric(df_notes['Final Exam☼'])"
   ]
  },
  {
   "cell_type": "code",
   "execution_count": 217,
   "id": "a0feba53",
   "metadata": {},
   "outputs": [],
   "source": [
    "# To import the file, I specified that the separator was \";\".\n",
    "# Then I specified what to do when we encounter bad line : delete it.\n",
    "\n",
    "# Next I delete rows containing missing values with the function dropna().\n",
    "\n",
    "# Finally we replaced dots with commas in the columns that interested us for the rest\n",
    "# and converted them into numeric variables"
   ]
  },
  {
   "cell_type": "markdown",
   "id": "ed0ca214",
   "metadata": {},
   "source": [
    "## 2"
   ]
  },
  {
   "cell_type": "code",
   "execution_count": 184,
   "id": "7165c2e0",
   "metadata": {},
   "outputs": [
    {
     "data": {
      "text/html": [
       "<div>\n",
       "<style scoped>\n",
       "    .dataframe tbody tr th:only-of-type {\n",
       "        vertical-align: middle;\n",
       "    }\n",
       "\n",
       "    .dataframe tbody tr th {\n",
       "        vertical-align: top;\n",
       "    }\n",
       "\n",
       "    .dataframe thead th {\n",
       "        text-align: right;\n",
       "    }\n",
       "</style>\n",
       "<table border=\"1\" class=\"dataframe\">\n",
       "  <thead>\n",
       "    <tr style=\"text-align: right;\">\n",
       "      <th></th>\n",
       "      <th>Lab1</th>\n",
       "      <th>Lab2</th>\n",
       "      <th>Lab3</th>\n",
       "      <th>Lab4</th>\n",
       "      <th>Lab5</th>\n",
       "      <th>Lab6</th>\n",
       "      <th>Lab7</th>\n",
       "      <th>Avg lab mark</th>\n",
       "      <th>Project</th>\n",
       "      <th>Final Exam☼</th>\n",
       "      <th>Final Mark</th>\n",
       "      <th>Rank</th>\n",
       "      <th>GPA</th>\n",
       "    </tr>\n",
       "  </thead>\n",
       "  <tbody>\n",
       "    <tr>\n",
       "      <th>0</th>\n",
       "      <td>10,75</td>\n",
       "      <td>16,875</td>\n",
       "      <td>16</td>\n",
       "      <td>17</td>\n",
       "      <td>13,375</td>\n",
       "      <td>12,875</td>\n",
       "      <td>18,5</td>\n",
       "      <td>15,77083333</td>\n",
       "      <td>11</td>\n",
       "      <td>9,75</td>\n",
       "      <td>11,56770833</td>\n",
       "      <td>40</td>\n",
       "      <td>D</td>\n",
       "    </tr>\n",
       "    <tr>\n",
       "      <th>1</th>\n",
       "      <td>13,25</td>\n",
       "      <td>14,625</td>\n",
       "      <td>13,5</td>\n",
       "      <td>6,875</td>\n",
       "      <td>12,375</td>\n",
       "      <td>15</td>\n",
       "      <td>14,25</td>\n",
       "      <td>13,83333333</td>\n",
       "      <td>11</td>\n",
       "      <td>9,75</td>\n",
       "      <td>11,08333333</td>\n",
       "      <td>43</td>\n",
       "      <td>D</td>\n",
       "    </tr>\n",
       "    <tr>\n",
       "      <th>2</th>\n",
       "      <td>15,25</td>\n",
       "      <td>15</td>\n",
       "      <td>5,25</td>\n",
       "      <td>10,5</td>\n",
       "      <td>13,75</td>\n",
       "      <td>14,5</td>\n",
       "      <td>13,75</td>\n",
       "      <td>13,79166667</td>\n",
       "      <td>12</td>\n",
       "      <td>7,25</td>\n",
       "      <td>10,07291667</td>\n",
       "      <td>50</td>\n",
       "      <td>E</td>\n",
       "    </tr>\n",
       "    <tr>\n",
       "      <th>3</th>\n",
       "      <td>16</td>\n",
       "      <td>16,5</td>\n",
       "      <td>17,5</td>\n",
       "      <td>13,25</td>\n",
       "      <td>18,125</td>\n",
       "      <td>19</td>\n",
       "      <td>19</td>\n",
       "      <td>17,6875</td>\n",
       "      <td>9</td>\n",
       "      <td>16,75</td>\n",
       "      <td>15,046875</td>\n",
       "      <td>7</td>\n",
       "      <td>B</td>\n",
       "    </tr>\n",
       "    <tr>\n",
       "      <th>4</th>\n",
       "      <td>15,25</td>\n",
       "      <td>19,125</td>\n",
       "      <td>20</td>\n",
       "      <td>15,5</td>\n",
       "      <td>16,5</td>\n",
       "      <td>20</td>\n",
       "      <td>17</td>\n",
       "      <td>18,02083333</td>\n",
       "      <td>14</td>\n",
       "      <td>14</td>\n",
       "      <td>15,00520833</td>\n",
       "      <td>8</td>\n",
       "      <td>B</td>\n",
       "    </tr>\n",
       "  </tbody>\n",
       "</table>\n",
       "</div>"
      ],
      "text/plain": [
       "    Lab1    Lab2  Lab3   Lab4    Lab5    Lab6   Lab7 Avg lab mark Project  \\\n",
       "0  10,75  16,875    16     17  13,375  12,875   18,5  15,77083333      11   \n",
       "1  13,25  14,625  13,5  6,875  12,375      15  14,25  13,83333333      11   \n",
       "2  15,25      15  5,25   10,5   13,75    14,5  13,75  13,79166667      12   \n",
       "3     16    16,5  17,5  13,25  18,125      19     19      17,6875       9   \n",
       "4  15,25  19,125    20   15,5    16,5      20     17  18,02083333      14   \n",
       "\n",
       "  Final Exam☼   Final Mark  Rank GPA  \n",
       "0        9,75  11,56770833    40   D  \n",
       "1        9,75  11,08333333    43   D  \n",
       "2        7,25  10,07291667    50   E  \n",
       "3       16,75    15,046875     7   B  \n",
       "4          14  15,00520833     8   B  "
      ]
     },
     "execution_count": 184,
     "metadata": {},
     "output_type": "execute_result"
    }
   ],
   "source": [
    "df_notes.head()"
   ]
  },
  {
   "cell_type": "code",
   "execution_count": 159,
   "id": "0a285d2a",
   "metadata": {
    "scrolled": true
   },
   "outputs": [
    {
     "data": {
      "text/plain": [
       "(55, 13)"
      ]
     },
     "execution_count": 159,
     "metadata": {},
     "output_type": "execute_result"
    }
   ],
   "source": [
    "df_notes.shape"
   ]
  },
  {
   "cell_type": "code",
   "execution_count": 404,
   "id": "278821d3",
   "metadata": {
    "scrolled": false
   },
   "outputs": [
    {
     "data": {
      "text/plain": [
       "Text(0.5, 1.0, 'Histogram of Grades Lab1')"
      ]
     },
     "execution_count": 404,
     "metadata": {},
     "output_type": "execute_result"
    },
    {
     "data": {
      "image/png": "[encoded data removed]",
      "text/plain": [
       "<Figure size 1152x432 with 1 Axes>"
      ]
     },
     "metadata": {
      "needs_background": "light"
     },
     "output_type": "display_data"
    }
   ],
   "source": [
    "plt.figure(figsize=(16,6))\n",
    "plt.hist(x=df_notes.Lab1, color ='c')\n",
    "plt.xlabel('Grades')\n",
    "plt.ylabel('Number of grades')\n",
    "plt.title('Histogram of Grades Lab1')"
   ]
  },
  {
   "cell_type": "code",
   "execution_count": 220,
   "id": "0c891538",
   "metadata": {},
   "outputs": [
    {
     "data": {
      "text/plain": [
       "Text(0.5, 1.0, 'Histogram of Grades Lab3')"
      ]
     },
     "execution_count": 220,
     "metadata": {},
     "output_type": "execute_result"
    },
    {
     "data": {
      "image/png": "[encoded data removed]",
      "text/plain": [
       "<Figure size 1152x432 with 1 Axes>"
      ]
     },
     "metadata": {
      "needs_background": "light"
     },
     "output_type": "display_data"
    }
   ],
   "source": [
    "plt.figure(figsize=(16,6))\n",
    "plt.hist(x=df_notes.Lab3, color ='m')\n",
    "plt.xlabel('Grades')\n",
    "plt.ylabel('Number of grades')\n",
    "plt.title('Histogram of Grades Lab3')"
   ]
  },
  {
   "cell_type": "code",
   "execution_count": 221,
   "id": "75ab108a",
   "metadata": {},
   "outputs": [
    {
     "data": {
      "text/plain": [
       "(array([ 2.,  0.,  0.,  2.,  0.,  2.,  3., 12., 19., 15.]),\n",
       " array([ 0. ,  1.9,  3.8,  5.7,  7.6,  9.5, 11.4, 13.3, 15.2, 17.1, 19. ]),\n",
       " <BarContainer object of 10 artists>)"
      ]
     },
     "execution_count": 221,
     "metadata": {},
     "output_type": "execute_result"
    },
    {
     "data": {
      "image/png": "[encoded data removed]",
      "text/plain": [
       "<Figure size 1152x432 with 1 Axes>"
      ]
     },
     "metadata": {
      "needs_background": "light"
     },
     "output_type": "display_data"
    }
   ],
   "source": [
    "plt.figure(figsize=(16,6))\n",
    "plt.xlabel('Grades')\n",
    "plt.ylabel('Number of grades')\n",
    "plt.title('Histogram of Grades Lab7')\n",
    "plt.hist(x=df_notes.Lab7, color ='y')"
   ]
  },
  {
   "cell_type": "code",
   "execution_count": 222,
   "id": "db1712d6",
   "metadata": {},
   "outputs": [],
   "source": [
    "# We can see that the distribution of Lab1 is very concentrated around 15-16\n",
    "# while the one of the Lab3 is much more homogeneous. The Lab7 has a large portion of these ratings > 13\n",
    "# which shows a great success for this Lab."
   ]
  },
  {
   "cell_type": "markdown",
   "id": "9d000032",
   "metadata": {},
   "source": [
    "## 3"
   ]
  },
  {
   "cell_type": "code",
   "execution_count": 427,
   "id": "9e4c94df",
   "metadata": {},
   "outputs": [
    {
     "name": "stdout",
     "output_type": "stream",
     "text": [
      "Average Lab1 = 15.19\n",
      "Minimum Lab1 = 0.0\n",
      "Maximum Lab1 = 20.0\n",
      "Standard deviation Lab1 = 3.00\n"
     ]
    }
   ],
   "source": [
    "# Lab1\n",
    "# Average\n",
    "print(\"Average Lab1 = {0:.2f}\".format(df_notes.Lab1.mean()))\n",
    "\n",
    "# Minimum\n",
    "print(\"Minimum Lab1 =\", df_notes.Lab1.min())\n",
    "\n",
    "# Maximum\n",
    "print(\"Maximum Lab1 =\", df_notes.Lab1.max())\n",
    "\n",
    "# Standard deviation\n",
    "print(\"Standard deviation Lab1 = {0:.2f}\".format(df_notes.Lab1.std()))"
   ]
  },
  {
   "cell_type": "code",
   "execution_count": 428,
   "id": "efcabe77",
   "metadata": {},
   "outputs": [
    {
     "name": "stdout",
     "output_type": "stream",
     "text": [
      "Average Lab3 = 13.93\n",
      "Minimum Lab3 = 0.0\n",
      "Maximum Lab3 = 20.0\n",
      "Standard deviation Lab3 = 5.80\n"
     ]
    }
   ],
   "source": [
    "# Lab3\n",
    "# Average\n",
    "print(\"Average Lab3 = {0:.2f}\".format(df_notes.Lab3.mean()))\n",
    "\n",
    "# Minimum\n",
    "print(\"Minimum Lab3 =\", df_notes.Lab3.min())\n",
    "\n",
    "# Maximum\n",
    "print(\"Maximum Lab3 =\", df_notes.Lab3.max())\n",
    "\n",
    "# Standard deviation\n",
    "print(\"Standard deviation Lab3 = {0:.2f}\".format(df_notes.Lab3.std()))"
   ]
  },
  {
   "cell_type": "code",
   "execution_count": 429,
   "id": "8b73949e",
   "metadata": {},
   "outputs": [
    {
     "name": "stdout",
     "output_type": "stream",
     "text": [
      "Average Lab7 = 14.90\n",
      "Minimum Lab7 = 0.0\n",
      "Maximum Lab7 = 19.0\n",
      "Standard deviation Lab7 = 3.93\n"
     ]
    }
   ],
   "source": [
    "# Lab7\n",
    "# Average\n",
    "print(\"Average Lab7 = {0:.2f}\".format(df_notes.Lab7.mean()))\n",
    "\n",
    "# Minimum\n",
    "print(\"Minimum Lab7 =\", df_notes.Lab7.min())\n",
    "\n",
    "# Maximum\n",
    "print(\"Maximum Lab7 =\", df_notes.Lab7.max())\n",
    "\n",
    "# Standard deviation\n",
    "print(\"Standard deviation Lab7 = {0:.2f}\".format(df_notes.Lab7.std()))"
   ]
  },
  {
   "cell_type": "code",
   "execution_count": 433,
   "id": "6f20b4c6",
   "metadata": {},
   "outputs": [],
   "source": [
    "value_counts = df_notes.GPA.value_counts().to_frame(name='count')"
   ]
  },
  {
   "cell_type": "code",
   "execution_count": 267,
   "id": "e1a201fe",
   "metadata": {},
   "outputs": [
    {
     "data": {
      "text/plain": [
       "([<matplotlib.patches.Wedge at 0x7f78715d3d90>,\n",
       "  <matplotlib.patches.Wedge at 0x7f78715e17c0>,\n",
       "  <matplotlib.patches.Wedge at 0x7f78715f1190>,\n",
       "  <matplotlib.patches.Wedge at 0x7f78715f1b20>,\n",
       "  <matplotlib.patches.Wedge at 0x7f78715fe4f0>,\n",
       "  <matplotlib.patches.Wedge at 0x7f78715fee80>],\n",
       " [Text(-0.8313245501834298, 0.720346786112299, 'D'),\n",
       "  Text(-0.6465637441936395, -0.8899187180267094, 'C'),\n",
       "  Text(0.83132455018343, -0.7203467861122987, 'B'),\n",
       "  Text(1.046162158377023, 0.33991872319707306, 'E'),\n",
       "  Text(0.5947048716338137, 0.9253789038307548, 'F'),\n",
       "  Text(0.1253905213468652, 1.09282991227197, 'A')],\n",
       " [Text(-0.4534497546455071, 0.3929164287885267, '27.3%'),\n",
       "  Text(-0.3526711331965306, -0.4854102098327505, '25.5%'),\n",
       "  Text(0.4534497546455072, -0.39291642878852656, '21.8%'),\n",
       "  Text(0.5706339045692853, 0.1854102126529489, '10.9%'),\n",
       "  Text(0.3243844754366256, 0.5047521293622298, '10.9%'),\n",
       "  Text(0.06839482982556283, 0.596089043057438, '3.6%')])"
      ]
     },
     "execution_count": 267,
     "metadata": {},
     "output_type": "execute_result"
    },
    {
     "data": {
      "image/png": "[encoded data removed]",
      "text/plain": [
       "<Figure size 720x360 with 1 Axes>"
      ]
     },
     "metadata": {},
     "output_type": "display_data"
    }
   ],
   "source": [
    "plt.figure(figsize=(10,5))\n",
    "plt.pie(value_counts['count'], labels=value_counts.index, \n",
    "        autopct='%1.1f%%', shadow=True, startangle=90)"
   ]
  },
  {
   "cell_type": "markdown",
   "id": "bd78e06f",
   "metadata": {},
   "source": [
    "## 4"
   ]
  },
  {
   "cell_type": "code",
   "execution_count": 435,
   "id": "b6763b08",
   "metadata": {},
   "outputs": [
    {
     "name": "stdout",
     "output_type": "stream",
     "text": [
      "The average of the Labs is : 14.90\n"
     ]
    }
   ],
   "source": [
    "Lab_mean = (df_notes.Lab1.mean()+df_notes.Lab2.mean()+df_notes.Lab3.mean()+df_notes.Lab4.mean()\n",
    "            +df_notes.Lab5.mean()+df_notes.Lab6.mean()+df_notes.Lab7.mean())/7\n",
    "print(\"The average of the Labs is : {0:.2f}\".format(Lab_mean))"
   ]
  },
  {
   "cell_type": "code",
   "execution_count": 436,
   "id": "a33beb2e",
   "metadata": {
    "scrolled": true
   },
   "outputs": [
    {
     "name": "stdout",
     "output_type": "stream",
     "text": [
      "La average of the final exam is : 10.71\n"
     ]
    }
   ],
   "source": [
    "Final_exam_mean = df_notes['Final Exam☼'].mean()\n",
    "print(\"La average of the final exam is : {0:.2f}\".format(Final_exam_mean))"
   ]
  },
  {
   "cell_type": "code",
   "execution_count": 437,
   "id": "1c650ae7",
   "metadata": {},
   "outputs": [
    {
     "name": "stdout",
     "output_type": "stream",
     "text": [
      "The standard deviation is : 4.18\n"
     ]
    }
   ],
   "source": [
    "std = Lab_mean - Final_exam_mean\n",
    "print(\"The standard deviation is : {0:.2f}\".format(std))"
   ]
  },
  {
   "cell_type": "code",
   "execution_count": 438,
   "id": "36f01fd7",
   "metadata": {},
   "outputs": [
    {
     "name": "stdout",
     "output_type": "stream",
     "text": [
      "The percentage difference between the two is : 20.91 %\n"
     ]
    }
   ],
   "source": [
    "percentage = std/20*100\n",
    "print(\"The percentage difference between the two is : {0:.2f}\".format(percentage),\"%\")"
   ]
  },
  {
   "cell_type": "markdown",
   "id": "05bd0dce",
   "metadata": {},
   "source": [
    "# C- Data from texts"
   ]
  },
  {
   "cell_type": "markdown",
   "id": "d9f26da2",
   "metadata": {},
   "source": [
    "## 1"
   ]
  },
  {
   "cell_type": "code",
   "execution_count": 439,
   "id": "df5db22d",
   "metadata": {},
   "outputs": [],
   "source": [
    "Grade = [6,8,9,10,11,12,13,14,17]\n",
    "StudentsNumber = [10,12,48,23,24,48,9,14,22]"
   ]
  },
  {
   "cell_type": "code",
   "execution_count": 298,
   "id": "8a1eaadb",
   "metadata": {},
   "outputs": [],
   "source": [
    "#df_series = pd.Series(Grade, StudentsNumber)"
   ]
  },
  {
   "cell_type": "code",
   "execution_count": 440,
   "id": "6b945ec4",
   "metadata": {},
   "outputs": [],
   "source": [
    "df_notes2 = pd.DataFrame(list(zip(Grade,StudentsNumber)), columns = ['Grade','StudentsNumber'])"
   ]
  },
  {
   "cell_type": "code",
   "execution_count": 302,
   "id": "2ce61dee",
   "metadata": {},
   "outputs": [],
   "source": [
    "#df_notes2 = pd.DataFrame(df_series, columns=['Grade'])"
   ]
  },
  {
   "cell_type": "code",
   "execution_count": 441,
   "id": "87742e08",
   "metadata": {},
   "outputs": [
    {
     "data": {
      "text/html": [
       "<div>\n",
       "<style scoped>\n",
       "    .dataframe tbody tr th:only-of-type {\n",
       "        vertical-align: middle;\n",
       "    }\n",
       "\n",
       "    .dataframe tbody tr th {\n",
       "        vertical-align: top;\n",
       "    }\n",
       "\n",
       "    .dataframe thead th {\n",
       "        text-align: right;\n",
       "    }\n",
       "</style>\n",
       "<table border=\"1\" class=\"dataframe\">\n",
       "  <thead>\n",
       "    <tr style=\"text-align: right;\">\n",
       "      <th></th>\n",
       "      <th>Grade</th>\n",
       "      <th>StudentsNumber</th>\n",
       "    </tr>\n",
       "  </thead>\n",
       "  <tbody>\n",
       "    <tr>\n",
       "      <th>0</th>\n",
       "      <td>6</td>\n",
       "      <td>10</td>\n",
       "    </tr>\n",
       "    <tr>\n",
       "      <th>1</th>\n",
       "      <td>8</td>\n",
       "      <td>12</td>\n",
       "    </tr>\n",
       "    <tr>\n",
       "      <th>2</th>\n",
       "      <td>9</td>\n",
       "      <td>48</td>\n",
       "    </tr>\n",
       "    <tr>\n",
       "      <th>3</th>\n",
       "      <td>10</td>\n",
       "      <td>23</td>\n",
       "    </tr>\n",
       "    <tr>\n",
       "      <th>4</th>\n",
       "      <td>11</td>\n",
       "      <td>24</td>\n",
       "    </tr>\n",
       "  </tbody>\n",
       "</table>\n",
       "</div>"
      ],
      "text/plain": [
       "   Grade  StudentsNumber\n",
       "0      6              10\n",
       "1      8              12\n",
       "2      9              48\n",
       "3     10              23\n",
       "4     11              24"
      ]
     },
     "execution_count": 441,
     "metadata": {},
     "output_type": "execute_result"
    }
   ],
   "source": [
    "df_notes2.head()"
   ]
  },
  {
   "cell_type": "code",
   "execution_count": 442,
   "id": "b97e219f",
   "metadata": {},
   "outputs": [
    {
     "data": {
      "text/plain": [
       "(array([10., 12., 48., 23., 24., 48.,  9., 14.,  0., 22.]),\n",
       " array([ 6. ,  7.1,  8.2,  9.3, 10.4, 11.5, 12.6, 13.7, 14.8, 15.9, 17. ]),\n",
       " <BarContainer object of 10 artists>)"
      ]
     },
     "execution_count": 442,
     "metadata": {},
     "output_type": "execute_result"
    },
    {
     "data": {
      "image/png": "[encoded data removed]",
      "text/plain": [
       "<Figure size 720x360 with 1 Axes>"
      ]
     },
     "metadata": {
      "needs_background": "light"
     },
     "output_type": "display_data"
    }
   ],
   "source": [
    "fig, ax = plt.subplots(figsize=(10,5))\n",
    "ax.set_title('Rating distribution')\n",
    "ax.set_xlabel('Grade')\n",
    "ax.set_ylabel(\"StudentsNumber\")\n",
    "plt.hist(df_notes2.Grade,weights=df_notes2.StudentsNumber)"
   ]
  },
  {
   "cell_type": "markdown",
   "id": "12950ebe",
   "metadata": {},
   "source": [
    "## 2"
   ]
  },
  {
   "cell_type": "code",
   "execution_count": 444,
   "id": "3fcebab7",
   "metadata": {},
   "outputs": [
    {
     "name": "stdout",
     "output_type": "stream",
     "text": [
      "[60, 96, 432, 230, 264, 576, 117, 196, 374]\n"
     ]
    }
   ],
   "source": [
    "Total_grades = [a*b for a,b in zip(Grade, StudentsNumber)]\n",
    "print(Total_grades)"
   ]
  },
  {
   "cell_type": "code",
   "execution_count": 445,
   "id": "88a6f4d8",
   "metadata": {},
   "outputs": [
    {
     "name": "stdout",
     "output_type": "stream",
     "text": [
      "The average is : 11.17\n"
     ]
    }
   ],
   "source": [
    "mean = sum(Total_grades)/sum(StudentsNumber)\n",
    "print(\"The average is : {0:.2f}\".format(mean))"
   ]
  },
  {
   "cell_type": "code",
   "execution_count": 446,
   "id": "e56d56d6",
   "metadata": {
    "scrolled": true
   },
   "outputs": [
    {
     "name": "stdout",
     "output_type": "stream",
     "text": [
      "[6, 6, 6, 6, 6, 6, 6, 6, 6, 6, 8, 8, 8, 8, 8, 8, 8, 8, 8, 8, 8, 8, 9, 9, 9, 9, 9, 9, 9, 9, 9, 9, 9, 9, 9, 9, 9, 9, 9, 9, 9, 9, 9, 9, 9, 9, 9, 9, 9, 9, 9, 9, 9, 9, 9, 9, 9, 9, 9, 9, 9, 9, 9, 9, 9, 9, 9, 9, 9, 9, 10, 10, 10, 10, 10, 10, 10, 10, 10, 10, 10, 10, 10, 10, 10, 10, 10, 10, 10, 10, 10, 10, 10, 11, 11, 11, 11, 11, 11, 11, 11, 11, 11, 11, 11, 11, 11, 11, 11, 11, 11, 11, 11, 11, 11, 11, 11, 12, 12, 12, 12, 12, 12, 12, 12, 12, 12, 12, 12, 12, 12, 12, 12, 12, 12, 12, 12, 12, 12, 12, 12, 12, 12, 12, 12, 12, 12, 12, 12, 12, 12, 12, 12, 12, 12, 12, 12, 12, 12, 12, 12, 12, 12, 12, 12, 13, 13, 13, 13, 13, 13, 13, 13, 13, 14, 14, 14, 14, 14, 14, 14, 14, 14, 14, 14, 14, 14, 14, 17, 17, 17, 17, 17, 17, 17, 17, 17, 17, 17, 17, 17, 17, 17, 17, 17, 17, 17, 17, 17, 17]\n",
      "The median is : 11.0\n"
     ]
    }
   ],
   "source": [
    "new_serie = []\n",
    "i = 0\n",
    "j = 0\n",
    "while i<len(StudentsNumber):\n",
    "    while j<StudentsNumber[i]:\n",
    "        new_serie.append(Grade[i])\n",
    "        j+=1\n",
    "    j=0\n",
    "    i+=1\n",
    "print(new_serie)\n",
    "\n",
    "new_serie = pd.Series(new_serie)\n",
    "median = new_serie.median()\n",
    "print(\"The median is :\", median)"
   ]
  },
  {
   "cell_type": "code",
   "execution_count": 447,
   "id": "15dcd9d8",
   "metadata": {},
   "outputs": [
    {
     "name": "stdout",
     "output_type": "stream",
     "text": [
      "The variance is : 7.51\n"
     ]
    }
   ],
   "source": [
    "variance = new_serie.var()\n",
    "print(\"The variance is : {0:.2f}\".format(variance))"
   ]
  },
  {
   "cell_type": "code",
   "execution_count": 448,
   "id": "044754a8",
   "metadata": {},
   "outputs": [
    {
     "name": "stdout",
     "output_type": "stream",
     "text": [
      "The minimum is : 6\n",
      "The maximum is : 17\n",
      "The modes are : 9 et 12\n"
     ]
    }
   ],
   "source": [
    "print(\"The minimum is :\", new_serie.min())\n",
    "print(\"The maximum is :\", new_serie.max())\n",
    "print(\"The modes are :\", new_serie.mode()[0], \"et\", new_serie.mode()[1])"
   ]
  },
  {
   "cell_type": "markdown",
   "id": "0a9469ad",
   "metadata": {},
   "source": [
    "## 3"
   ]
  },
  {
   "cell_type": "code",
   "execution_count": 362,
   "id": "8d2312d6",
   "metadata": {},
   "outputs": [],
   "source": [
    "# A bimodal distribution is a mixture of 2 normal distributions.\n",
    "# Here we notice on the histogram that our series has 2 peaks and that its two modes are 9 and 12.\n",
    "# So it is effectively a bimodal distribution\n"
   ]
  },
  {
   "cell_type": "markdown",
   "id": "fba1f81d",
   "metadata": {},
   "source": [
    "# D- IQ Analysis"
   ]
  },
  {
   "cell_type": "markdown",
   "id": "d5dcafe0",
   "metadata": {},
   "source": [
    "## 1"
   ]
  },
  {
   "cell_type": "code",
   "execution_count": 374,
   "id": "a9ec327e",
   "metadata": {},
   "outputs": [],
   "source": [
    "data = pd.read_csv('/Users/pierreloviton/PycharmProjects/test-api/ISEP - Data Analysis/TP1/malnutrition.csv',squeeze='bool')"
   ]
  },
  {
   "cell_type": "markdown",
   "id": "9d667d69",
   "metadata": {},
   "source": [
    "## 2"
   ]
  },
  {
   "cell_type": "code",
   "execution_count": 375,
   "id": "a7c1ed7b",
   "metadata": {},
   "outputs": [
    {
     "data": {
      "text/plain": [
       "0    83\n",
       "1    76\n",
       "2    87\n",
       "3    74\n",
       "4    93\n",
       "Name: 97, dtype: int64"
      ]
     },
     "execution_count": 375,
     "metadata": {},
     "output_type": "execute_result"
    }
   ],
   "source": [
    "data.head()"
   ]
  },
  {
   "cell_type": "code",
   "execution_count": 449,
   "id": "f5171c78",
   "metadata": {},
   "outputs": [
    {
     "name": "stdout",
     "output_type": "stream",
     "text": [
      "The dataset contains 99 people\n"
     ]
    }
   ],
   "source": [
    "print(\"The dataset contains\", data.shape[0], \"people\")"
   ]
  },
  {
   "cell_type": "markdown",
   "id": "e3c06110",
   "metadata": {},
   "source": [
    "## 3"
   ]
  },
  {
   "cell_type": "code",
   "execution_count": 450,
   "id": "58cf673d",
   "metadata": {},
   "outputs": [
    {
     "name": "stdout",
     "output_type": "stream",
     "text": [
      "The average is : 87.89\n"
     ]
    }
   ],
   "source": [
    "print(\"The average is : {0:.2f}\".format(data.mean()))"
   ]
  },
  {
   "cell_type": "code",
   "execution_count": 452,
   "id": "4e4b8b8c",
   "metadata": {},
   "outputs": [
    {
     "name": "stdout",
     "output_type": "stream",
     "text": [
      "The standard deviation is : 9.68\n"
     ]
    }
   ],
   "source": [
    "print(\"The standard deviation is : {0:.2f}\".format(data.std()))"
   ]
  },
  {
   "cell_type": "code",
   "execution_count": 454,
   "id": "84d9dbcd",
   "metadata": {},
   "outputs": [],
   "source": [
    "# The general population follows a normal distribution with an average score of 100 and a standard deviation \n",
    "# of 15 points.\n",
    "# The population of people who suffered from malnutrition has a mean of 87.89 \n",
    "# and a standard deviation of 9.68 points.\n",
    "# The average IQ of people who have suffered from malnutrition is therefore more than 12 points lower,\n",
    "  # and its standard deviation of more than 5 points.\n",
    "  # This means that the overall population values are more scattered\n",
    "# and therefore some have lower IQs than people who have suffered from malnutrition."
   ]
  },
  {
   "cell_type": "markdown",
   "id": "9d3eb380",
   "metadata": {},
   "source": [
    "## 4"
   ]
  },
  {
   "cell_type": "code",
   "execution_count": 1,
   "id": "2a317a9f",
   "metadata": {},
   "outputs": [],
   "source": [
    "### CORRECTION => Faire intervalle de confiance"
   ]
  }
 ],
 "metadata": {
  "kernelspec": {
   "display_name": "Python 3 (ipykernel)",
   "language": "python",
   "name": "python3"
  },
  "language_info": {
   "codemirror_mode": {
    "name": "ipython",
    "version": 3
   },
   "file_extension": ".py",
   "mimetype": "text/x-python",
   "name": "python",
   "nbconvert_exporter": "python",
   "pygments_lexer": "ipython3",
   "version": "3.9.7"
  }
 },
 "nbformat": 4,
 "nbformat_minor": 5
}
