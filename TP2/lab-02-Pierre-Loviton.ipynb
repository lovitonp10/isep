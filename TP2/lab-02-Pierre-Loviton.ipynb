{
 "cells": [
  {
   "cell_type": "code",
   "execution_count": 1,
   "metadata": {},
   "outputs": [],
   "source": [
    "###############################################################################\n",
    "# OPTIMIZATION & AI - LAB 02\n",
    "# LOVITON Pierre\n",
    "###############################################################################"
   ]
  },
  {
   "cell_type": "code",
   "execution_count": 160,
   "metadata": {},
   "outputs": [],
   "source": [
    "# System imports\n",
    "import matplotlib.pyplot as plt\n",
    "import numpy as np\n",
    "\n",
    "#Extra library imports\n",
    "import pandas as pd\n",
    "from scipy.optimize import minimize, optimize\n",
    "import seaborn as sns"
   ]
  },
  {
   "cell_type": "code",
   "execution_count": 3,
   "metadata": {},
   "outputs": [],
   "source": [
    "# User inputs\n",
    "color_dict = {'benign': 'g', 'malignant': 'r'}\n",
    "csvpath = 'breats_cells.csv'"
   ]
  },
  {
   "cell_type": "markdown",
   "metadata": {},
   "source": [
    "Breast cancer is the most common cancer among women in France, and also the leading cause of cancer death in women. If the presence of a lesion is suspected after a breast cancer screening, the diagnosis can be confirmed performing a biopsy, i.e. the extraction of a sample of the abnormal tissue on the patient. The analysis of the collected sample using microscopic techniques allows detecting malignant breast cells, that differ from healthy cells in features such as shape, density or size. In this lab, we will more especially focus on the circularity of breast cells, to study if it is a potential tumor marker. "
   ]
  },
  {
   "cell_type": "markdown",
   "metadata": {},
   "source": [
    "# I. Linear regression on breast cells' features using gradient descent"
   ]
  },
  {
   "cell_type": "markdown",
   "metadata": {},
   "source": [
    "## a) Exploration of  the dataset"
   ]
  },
  {
   "cell_type": "markdown",
   "metadata": {},
   "source": [
    "We will now study the breast cancer wisconsin dataset, collecting features on healthy and malignant cells. You may find additional information about this dataset on https://archive.ics.uci.edu/ml/datasets/Breast+Cancer+Wisconsin+(Diagnostic).\n",
    "\n",
    "<font color='blue'> Question 1: load the dataset in the 'breast_csv' file using pandas. Compute automatically and display the number of samples and potential features in this dataset using the shape attribute of pandas.</font>"
   ]
  },
  {
   "cell_type": "code",
   "execution_count": 11,
   "metadata": {},
   "outputs": [],
   "source": [
    "df = pd.read_csv(csvpath)"
   ]
  },
  {
   "cell_type": "code",
   "execution_count": 12,
   "metadata": {},
   "outputs": [
    {
     "data": {
      "text/html": [
       "<div>\n",
       "<style scoped>\n",
       "    .dataframe tbody tr th:only-of-type {\n",
       "        vertical-align: middle;\n",
       "    }\n",
       "\n",
       "    .dataframe tbody tr th {\n",
       "        vertical-align: top;\n",
       "    }\n",
       "\n",
       "    .dataframe thead th {\n",
       "        text-align: right;\n",
       "    }\n",
       "</style>\n",
       "<table border=\"1\" class=\"dataframe\">\n",
       "  <thead>\n",
       "    <tr style=\"text-align: right;\">\n",
       "      <th></th>\n",
       "      <th>mean radius</th>\n",
       "      <th>mean texture</th>\n",
       "      <th>mean perimeter</th>\n",
       "      <th>mean area</th>\n",
       "      <th>mean smoothness</th>\n",
       "      <th>mean compactness</th>\n",
       "      <th>mean concavity</th>\n",
       "      <th>mean concave points</th>\n",
       "      <th>mean symmetry</th>\n",
       "      <th>mean fractal dimension</th>\n",
       "      <th>...</th>\n",
       "      <th>worst texture</th>\n",
       "      <th>worst perimeter</th>\n",
       "      <th>worst area</th>\n",
       "      <th>worst smoothness</th>\n",
       "      <th>worst compactness</th>\n",
       "      <th>worst concavity</th>\n",
       "      <th>worst concave points</th>\n",
       "      <th>worst symmetry</th>\n",
       "      <th>worst fractal dimension</th>\n",
       "      <th>label</th>\n",
       "    </tr>\n",
       "  </thead>\n",
       "  <tbody>\n",
       "    <tr>\n",
       "      <th>0</th>\n",
       "      <td>10.570</td>\n",
       "      <td>18.32</td>\n",
       "      <td>66.82</td>\n",
       "      <td>340.9</td>\n",
       "      <td>0.08142</td>\n",
       "      <td>0.04462</td>\n",
       "      <td>0.01993</td>\n",
       "      <td>0.01111</td>\n",
       "      <td>0.2372</td>\n",
       "      <td>0.05768</td>\n",
       "      <td>...</td>\n",
       "      <td>23.31</td>\n",
       "      <td>69.35</td>\n",
       "      <td>366.3</td>\n",
       "      <td>0.09794</td>\n",
       "      <td>0.06542</td>\n",
       "      <td>0.03986</td>\n",
       "      <td>0.02222</td>\n",
       "      <td>0.2699</td>\n",
       "      <td>0.06736</td>\n",
       "      <td>benign</td>\n",
       "    </tr>\n",
       "    <tr>\n",
       "      <th>1</th>\n",
       "      <td>9.904</td>\n",
       "      <td>18.06</td>\n",
       "      <td>64.60</td>\n",
       "      <td>302.4</td>\n",
       "      <td>0.09699</td>\n",
       "      <td>0.12940</td>\n",
       "      <td>0.13070</td>\n",
       "      <td>0.03716</td>\n",
       "      <td>0.1669</td>\n",
       "      <td>0.08116</td>\n",
       "      <td>...</td>\n",
       "      <td>24.39</td>\n",
       "      <td>73.07</td>\n",
       "      <td>390.2</td>\n",
       "      <td>0.13010</td>\n",
       "      <td>0.29500</td>\n",
       "      <td>0.34860</td>\n",
       "      <td>0.09910</td>\n",
       "      <td>0.2614</td>\n",
       "      <td>0.11620</td>\n",
       "      <td>benign</td>\n",
       "    </tr>\n",
       "    <tr>\n",
       "      <th>2</th>\n",
       "      <td>23.510</td>\n",
       "      <td>24.27</td>\n",
       "      <td>155.10</td>\n",
       "      <td>1747.0</td>\n",
       "      <td>0.10690</td>\n",
       "      <td>0.12830</td>\n",
       "      <td>0.23080</td>\n",
       "      <td>0.14100</td>\n",
       "      <td>0.1797</td>\n",
       "      <td>0.05506</td>\n",
       "      <td>...</td>\n",
       "      <td>30.73</td>\n",
       "      <td>202.40</td>\n",
       "      <td>2906.0</td>\n",
       "      <td>0.15150</td>\n",
       "      <td>0.26780</td>\n",
       "      <td>0.48190</td>\n",
       "      <td>0.20890</td>\n",
       "      <td>0.2593</td>\n",
       "      <td>0.07738</td>\n",
       "      <td>malignant</td>\n",
       "    </tr>\n",
       "    <tr>\n",
       "      <th>3</th>\n",
       "      <td>9.423</td>\n",
       "      <td>27.88</td>\n",
       "      <td>59.26</td>\n",
       "      <td>271.3</td>\n",
       "      <td>0.08123</td>\n",
       "      <td>0.04971</td>\n",
       "      <td>0.00000</td>\n",
       "      <td>0.00000</td>\n",
       "      <td>0.1742</td>\n",
       "      <td>0.06059</td>\n",
       "      <td>...</td>\n",
       "      <td>34.24</td>\n",
       "      <td>66.50</td>\n",
       "      <td>330.6</td>\n",
       "      <td>0.10730</td>\n",
       "      <td>0.07158</td>\n",
       "      <td>0.00000</td>\n",
       "      <td>0.00000</td>\n",
       "      <td>0.2475</td>\n",
       "      <td>0.06969</td>\n",
       "      <td>benign</td>\n",
       "    </tr>\n",
       "    <tr>\n",
       "      <th>4</th>\n",
       "      <td>20.260</td>\n",
       "      <td>23.03</td>\n",
       "      <td>132.40</td>\n",
       "      <td>1264.0</td>\n",
       "      <td>0.09078</td>\n",
       "      <td>0.13130</td>\n",
       "      <td>0.14650</td>\n",
       "      <td>0.08683</td>\n",
       "      <td>0.2095</td>\n",
       "      <td>0.05649</td>\n",
       "      <td>...</td>\n",
       "      <td>31.59</td>\n",
       "      <td>156.10</td>\n",
       "      <td>1750.0</td>\n",
       "      <td>0.11900</td>\n",
       "      <td>0.35390</td>\n",
       "      <td>0.40980</td>\n",
       "      <td>0.15730</td>\n",
       "      <td>0.3689</td>\n",
       "      <td>0.08368</td>\n",
       "      <td>malignant</td>\n",
       "    </tr>\n",
       "  </tbody>\n",
       "</table>\n",
       "<p>5 rows × 31 columns</p>\n",
       "</div>"
      ],
      "text/plain": [
       "   mean radius  mean texture  mean perimeter  mean area  mean smoothness  \\\n",
       "0       10.570         18.32           66.82      340.9          0.08142   \n",
       "1        9.904         18.06           64.60      302.4          0.09699   \n",
       "2       23.510         24.27          155.10     1747.0          0.10690   \n",
       "3        9.423         27.88           59.26      271.3          0.08123   \n",
       "4       20.260         23.03          132.40     1264.0          0.09078   \n",
       "\n",
       "   mean compactness  mean concavity  mean concave points  mean symmetry  \\\n",
       "0           0.04462         0.01993              0.01111         0.2372   \n",
       "1           0.12940         0.13070              0.03716         0.1669   \n",
       "2           0.12830         0.23080              0.14100         0.1797   \n",
       "3           0.04971         0.00000              0.00000         0.1742   \n",
       "4           0.13130         0.14650              0.08683         0.2095   \n",
       "\n",
       "   mean fractal dimension  ...  worst texture  worst perimeter  worst area  \\\n",
       "0                 0.05768  ...          23.31            69.35       366.3   \n",
       "1                 0.08116  ...          24.39            73.07       390.2   \n",
       "2                 0.05506  ...          30.73           202.40      2906.0   \n",
       "3                 0.06059  ...          34.24            66.50       330.6   \n",
       "4                 0.05649  ...          31.59           156.10      1750.0   \n",
       "\n",
       "   worst smoothness  worst compactness  worst concavity  worst concave points  \\\n",
       "0           0.09794            0.06542          0.03986               0.02222   \n",
       "1           0.13010            0.29500          0.34860               0.09910   \n",
       "2           0.15150            0.26780          0.48190               0.20890   \n",
       "3           0.10730            0.07158          0.00000               0.00000   \n",
       "4           0.11900            0.35390          0.40980               0.15730   \n",
       "\n",
       "   worst symmetry  worst fractal dimension      label  \n",
       "0          0.2699                  0.06736     benign  \n",
       "1          0.2614                  0.11620     benign  \n",
       "2          0.2593                  0.07738  malignant  \n",
       "3          0.2475                  0.06969     benign  \n",
       "4          0.3689                  0.08368  malignant  \n",
       "\n",
       "[5 rows x 31 columns]"
      ]
     },
     "execution_count": 12,
     "metadata": {},
     "output_type": "execute_result"
    }
   ],
   "source": [
    "df.head()"
   ]
  },
  {
   "cell_type": "code",
   "execution_count": 13,
   "metadata": {},
   "outputs": [
    {
     "data": {
      "text/plain": [
       "(569, 31)"
      ]
     },
     "execution_count": 13,
     "metadata": {},
     "output_type": "execute_result"
    }
   ],
   "source": [
    "df.shape"
   ]
  },
  {
   "cell_type": "markdown",
   "metadata": {},
   "source": [
    "<font color='blue'> Question 2: display all the potential feature names, *i.e.* the names of the columns of the loaded dataframe. </font>"
   ]
  },
  {
   "cell_type": "code",
   "execution_count": 6,
   "metadata": {},
   "outputs": [
    {
     "data": {
      "text/plain": [
       "Index(['mean radius', 'mean texture', 'mean perimeter', 'mean area',\n",
       "       'mean smoothness', 'mean compactness', 'mean concavity',\n",
       "       'mean concave points', 'mean symmetry', 'mean fractal dimension',\n",
       "       'radius error', 'texture error', 'perimeter error', 'area error',\n",
       "       'smoothness error', 'compactness error', 'concavity error',\n",
       "       'concave points error', 'symmetry error', 'fractal dimension error',\n",
       "       'worst radius', 'worst texture', 'worst perimeter', 'worst area',\n",
       "       'worst smoothness', 'worst compactness', 'worst concavity',\n",
       "       'worst concave points', 'worst symmetry', 'worst fractal dimension',\n",
       "       'label'],\n",
       "      dtype='object')"
      ]
     },
     "execution_count": 6,
     "metadata": {},
     "output_type": "execute_result"
    }
   ],
   "source": [
    "# Display all the potential feature names\n",
    "df.columns"
   ]
  },
  {
   "cell_type": "markdown",
   "metadata": {},
   "source": [
    "In fact, the last name of the list is not a feature: it represents the possible labels, *i.e.* the class associated with each sample. We will now study the distribution of these labels in the dataset."
   ]
  },
  {
   "cell_type": "markdown",
   "metadata": {},
   "source": [
    "<font color='blue'> Question 3: compute and display the number of samples for each label value. You may use either the value_count attribute from Pandas, or the unique function from Numpy with the appropriated argument. Is the distribution of these labels balanced ? </font>"
   ]
  },
  {
   "cell_type": "code",
   "execution_count": 9,
   "metadata": {},
   "outputs": [
    {
     "data": {
      "text/plain": [
       "benign       357\n",
       "malignant    212\n",
       "Name: label, dtype: int64"
      ]
     },
     "execution_count": 9,
     "metadata": {},
     "output_type": "execute_result"
    }
   ],
   "source": [
    "df.label.value_counts()"
   ]
  },
  {
   "cell_type": "code",
   "execution_count": 10,
   "metadata": {},
   "outputs": [
    {
     "data": {
      "text/plain": [
       "benign       0.627417\n",
       "malignant    0.372583\n",
       "Name: label, dtype: float64"
      ]
     },
     "execution_count": 10,
     "metadata": {},
     "output_type": "execute_result"
    }
   ],
   "source": [
    "df.label.value_counts(normalize=True)"
   ]
  },
  {
   "cell_type": "markdown",
   "metadata": {},
   "source": [
    "<font color='blue'> \n",
    "We can see that the distribution is not really balanced, with around 62.7% of benign cells and 37.3% malignant.</font>"
   ]
  },
  {
   "cell_type": "markdown",
   "metadata": {},
   "source": [
    "To assess the circularity of malignant or healthy cells, we are first interested in two features: the perimeter and the radius. We will now visualize these values to see if they can characterize circular shapes."
   ]
  },
  {
   "cell_type": "markdown",
   "metadata": {},
   "source": [
    "<font color='blue'> Question 4: \n",
    "- Plot the perimeter values in function of the radius values. Use the \"color_dict\" dictionary to color the plotted points with the color of the associated label.\n",
    "- Visually, is there a linear relationship between these two features? \n",
    "- Visually, could you use these two labels alone to make the difference between healthy and malignant breast cells?</font>"
   ]
  },
  {
   "cell_type": "code",
   "execution_count": 21,
   "metadata": {},
   "outputs": [
    {
     "data": {
      "text/plain": [
       "Text(0.5, 1.0, 'Scatter plot of the perimeter versus the radius')"
      ]
     },
     "execution_count": 21,
     "metadata": {},
     "output_type": "execute_result"
    },
    {
     "data": {
      "image/png": "[encoded data removed]",
      "text/plain": [
       "<Figure size 432x288 with 1 Axes>"
      ]
     },
     "metadata": {
      "needs_background": "light"
     },
     "output_type": "display_data"
    }
   ],
   "source": [
    "# Plot the perimeter versus the radius \n",
    "sns.scatterplot(x=df['mean perimeter'], y=df['mean radius'], hue=df['label'],palette=color_dict)\n",
    "plt.title('Scatter plot of the perimeter versus the radius')"
   ]
  },
  {
   "cell_type": "markdown",
   "metadata": {},
   "source": [
    "<font color='blue'> \n",
    "\n",
    "- Visually, we can see a important relationship between these two features.\n",
    "\n",
    "- Visually, we could use these two labels to make the difference between healthy and malignant breast cells, but we will have some errors at some point. We can see that when mean perimeter is included into [80;120], we can't determine very well the difference.\n",
    "</font>"
   ]
  },
  {
   "cell_type": "markdown",
   "metadata": {},
   "source": [
    "## b) Circle fitting using linear regression on cells' features"
   ]
  },
  {
   "cell_type": "markdown",
   "metadata": {},
   "source": [
    "We will now assess more rigoroulsy the circularity of the breast cells from the Winsconsin dataset, using linear regression. More precisely, we look for a relationship between the perimeter $p$ and the radius $r$: \n",
    "\n",
    "<center>$p = \\alpha * r + \\beta$ </center>"
   ]
  },
  {
   "cell_type": "markdown",
   "metadata": {},
   "source": [
    "<font color='blue'> Question 5: supposing breast cells are circular, what are the expected values for $\\alpha$ and  $\\beta$? </font>"
   ]
  },
  {
   "cell_type": "markdown",
   "metadata": {},
   "source": [
    "<font color='blue'>  \n",
    "We know that the formula for the perimeter of a circle is: p = 2*pi*r, with r the radius of this circle.\n",
    "    \n",
    "Initially, supposing breast cells are circular, 𝛼 would be equal to 2*pi and 𝛽 to 0. \n",
    "</font>"
   ]
  },
  {
   "cell_type": "markdown",
   "metadata": {},
   "source": [
    " We will now focus on linear regression. For simplification, we will first first suppose that $\\beta=0$. The loss to minimize, we call L1, is then written:\n",
    " \n",
    " $\\displaystyle \\frac{1}{n} \\sum_{i=1}^n (p_i - (\\alpha * r_i)) ^ 2$ \n",
    " \n",
    " with $n$ the number of samples in the dataset, $p_i$ the perimeter of sample $i$ and $r_i$ the radius of this same sample. This loss, actually the Mean Squared Error (MSE) of the predicted perimeter with respect to the measured perimeter, will be optimized using a classic gradient descent."
   ]
  },
  {
   "cell_type": "markdown",
   "metadata": {},
   "source": [
    "<font color='blue'> Question 6: complete the following function to perform linear regression on loss L1 using gradient descent. </font>"
   ]
  },
  {
   "cell_type": "code",
   "execution_count": 56,
   "metadata": {},
   "outputs": [],
   "source": [
    "# First version of a linear regression using gradient descent\n",
    "def linear_regression(p1, p2, lr, nb_its, alpha0):   \n",
    "    \n",
    "    \"\"\"\n",
    "    Linear regression between two input variables p1 and p2, so that p1 = alpha * p2 \n",
    "    with alpha the parameter to optimize\n",
    "    \n",
    "    \n",
    "    Parameters\n",
    "    ----------\n",
    "    p1: vector\n",
    "        the vector containing the first variable values\n",
    "    p2: vector\n",
    "        the vector containing the second variable values\n",
    "    lr : float\n",
    "        the learning rate\n",
    "    nb_its : strictly positive integer\n",
    "        the number of iterations\n",
    "    alpha0: float\n",
    "        the initial alpha value\n",
    "        \n",
    "    Returns\n",
    "    -------\n",
    "    alpha: float\n",
    "        the optimized parameter value\n",
    "    losses: vector of floats\n",
    "        the vector of loss values over the iterations\n",
    "        \n",
    "    Command:\n",
    "    alpha, losses = linear_regression(p1, p2, lr, nb_its, alpha0)\n",
    "    \n",
    "    \"\"\"\n",
    "\n",
    "    #Initialize the loss vector\n",
    "    losses = []\n",
    "    \n",
    "    #Initialize the alpha value\n",
    "    alpha = alpha0\n",
    "    \n",
    "    # Perform Gradient Descent \n",
    "    for i in range(nb_its): \n",
    "        \n",
    "        #Compute the partial derivative of the loss with respect to alpha \n",
    "        d_alpha = np.mean(-2*p1*p2+2*alpha*p2**2)\n",
    "        \n",
    "        # Update the alpha value\n",
    "        alpha = alpha-lr*d_alpha\n",
    "        \n",
    "        # Compute the updated L1 loss value\n",
    "        loss_val = (1/len(p1))*np.sum((p1-(alpha*p2))**2)\n",
    "        \n",
    "        # Update the vector of losses\n",
    "        losses.append(loss_val)\n",
    "    \n",
    "    return alpha, losses    "
   ]
  },
  {
   "cell_type": "markdown",
   "metadata": {},
   "source": [
    "<font color='blue'> Question 7: for each distinct label value, complete the following code to perform linear regression on loss L1 using gradient descent:\n",
    "- Initialize the process using the expected value of $\\alpha$, and display the initial value of the loss L1.\n",
    "- Perform gradient descent using the L1 loss function, with a learning rate equal to 0.001 and 100 iterations\n",
    "- Display the optimized alpha and the final L1 loss value\n",
    "- Superimpose the optimized line on the figure of the perimeter in function of the radius\n",
    "</font>"
   ]
  },
  {
   "cell_type": "code",
   "execution_count": 37,
   "metadata": {},
   "outputs": [
    {
     "data": {
      "text/plain": [
       "array(['benign', 'malignant'], dtype=object)"
      ]
     },
     "execution_count": 37,
     "metadata": {},
     "output_type": "execute_result"
    }
   ],
   "source": [
    "labels = np.unique(df.label)\n",
    "labels"
   ]
  },
  {
   "cell_type": "code",
   "execution_count": 176,
   "metadata": {},
   "outputs": [
    {
     "name": "stdout",
     "output_type": "stream",
     "text": [
      "Linear regression on benign cells:\n",
      "The initial value of alpha is: 6.283185307179586\n",
      "The initial value of loss value is: 4.320215995692195\n",
      "The final alpha is: 6.43162179471489\n",
      "The final loss value is: 0.9997976094672043\n"
     ]
    },
    {
     "data": {
      "image/png": "[encoded data removed]",
      "text/plain": [
       "<Figure size 432x288 with 1 Axes>"
      ]
     },
     "metadata": {
      "needs_background": "light"
     },
     "output_type": "display_data"
    },
    {
     "name": "stdout",
     "output_type": "stream",
     "text": [
      "Linear regression on malignant cells:\n",
      "The initial value of alpha is: 6.283185307179586\n",
      "The initial value of loss value is: 38.93427064426372\n",
      "The final alpha is: 6.612258213059991\n",
      "The final loss value is: 4.805110085338103\n"
     ]
    },
    {
     "data": {
      "image/png": "[encoded data removed]",
      "text/plain": [
       "<Figure size 432x288 with 1 Axes>"
      ]
     },
     "metadata": {
      "needs_background": "light"
     },
     "output_type": "display_data"
    }
   ],
   "source": [
    "# Learning rate\n",
    "lr = 0.001\n",
    "\n",
    "# Set the number of iterations\n",
    "nb_its = 100\n",
    "\n",
    "#Select the feature names\n",
    "feat1, feat2 = 'mean radius','mean perimeter'\n",
    "\n",
    "#Initialize the dictionary of label losses\n",
    "losses = {}\n",
    "\n",
    "#Go through each label\n",
    "for label in labels:\n",
    "    print('Linear regression on {0} cells:'.format(label))\n",
    "    \n",
    "    # Restrict the dataframe to the samples of the current label\n",
    "    df_label = df[df['label']==label]\n",
    "    \n",
    "    # Get the needed variables for the selected samples\n",
    "    r = df_label[feat1].values    \n",
    "    p = df_label[feat2].values \n",
    "    \n",
    "    # Initialize the alpha value\n",
    "    alpha0 = 2*np.pi\n",
    "    \n",
    "    # Display the initial alpha and loss values\n",
    "    print(\"The initial value of alpha is:\", alpha0)\n",
    "    loss_initial = (1/len(p))*np.sum((p-(alpha0*r))**2)\n",
    "    print(\"The initial value of loss value is:\",loss_initial)\n",
    "    \n",
    "    # Perform Gradient Descent \n",
    "    alpha, label_loss = linear_regression(p1=p, p2=r, lr=lr, nb_its=nb_its, alpha0=alpha0)\n",
    "    #Update the loss dictionary\n",
    "    losses[label] = label_loss  \n",
    "    \n",
    "    # Display the final alpha and loss value\n",
    "    print(\"The final alpha is:\",alpha)\n",
    "    print(\"The final loss value is:\",label_loss[-1])\n",
    "    # Display the results\n",
    "    fig, ax = plt.subplots()\n",
    "    ax.scatter(p, r)\n",
    "    y=r\n",
    "    x=alpha*r\n",
    "    ax.plot(x,y,c='r')\n",
    "    plt.show()"
   ]
  },
  {
   "cell_type": "markdown",
   "metadata": {},
   "source": [
    "<font color='blue'> Question 8: visually and quantitatively assess the performances of the algorithm for both labels.\n",
    "- Did the algorithm work?\n",
    "- Is there a difference in circularity between malignant and benign cells?\n",
    "</font>"
   ]
  },
  {
   "cell_type": "markdown",
   "metadata": {},
   "source": [
    "<font color='blue'> \n",
    "\n",
    "- We can see that the algorithm work, visually, the line seems to follow the trend of the scatterplot.\n",
    "    \n",
    "- We can see that the formula of a benign cell (p=6.6*r+0.99) is closer to the formula of the perimeter of a circle than the formula of a malignant cell (p=6.6*r+4.8). The circularity of these two kinds of cells is different.\n",
    "\n",
    "</font>"
   ]
  },
  {
   "cell_type": "markdown",
   "metadata": {},
   "source": [
    "We will now assess the convergence of the algorithm displaying the evolution of the loss iver iterations."
   ]
  },
  {
   "cell_type": "markdown",
   "metadata": {},
   "source": [
    "<font color='blue'> Question 9: Display the evolution of the loss for both labels. Did the algorithm converged to a minimal loss value ?\n",
    "</font>"
   ]
  },
  {
   "cell_type": "code",
   "execution_count": 91,
   "metadata": {},
   "outputs": [
    {
     "data": {
      "text/plain": [
       "[<matplotlib.lines.Line2D at 0x7f8bde170b50>]"
      ]
     },
     "execution_count": 91,
     "metadata": {},
     "output_type": "execute_result"
    },
    {
     "data": {
      "image/png": "[encoded data removed]",
      "text/plain": [
       "<Figure size 432x288 with 1 Axes>"
      ]
     },
     "metadata": {
      "needs_background": "light"
     },
     "output_type": "display_data"
    }
   ],
   "source": [
    "plt.plot(label_loss)"
   ]
  },
  {
   "cell_type": "markdown",
   "metadata": {},
   "source": [
    "<font color='blue'> \n",
    "We can see that the algorithm converge quickly to a minimal loss value. We maybe don't need 100 iterations but 10.\n",
    "</font>"
   ]
  },
  {
   "cell_type": "markdown",
   "metadata": {},
   "source": [
    "As we saw in the course, we have a crucial parameter: the learning rate. We will now assess its influence."
   ]
  },
  {
   "cell_type": "markdown",
   "metadata": {},
   "source": [
    "<font color='blue'> Question 10: repeat question 7, testing three different values for the learning rate (0.01, 0.001 and 0.0001). Was the choice we did for this parameter in question 7 appropriated?\n",
    "</font>"
   ]
  },
  {
   "cell_type": "code",
   "execution_count": 177,
   "metadata": {},
   "outputs": [
    {
     "name": "stdout",
     "output_type": "stream",
     "text": [
      "Learning rate = 0.01\n",
      "Linear regression on benign cells:\n",
      "The initial value of alpha is: 6.283185307179586\n",
      "The initial value of loss value is: 4.320215995692195\n",
      "The final alpha is: -3.77764244904033e+29\n",
      "The final loss value is: 2.1505679623477735e+61\n"
     ]
    },
    {
     "data": {
      "image/png": "[encoded data removed]",
      "text/plain": [
       "<Figure size 432x288 with 1 Axes>"
      ]
     },
     "metadata": {
      "needs_background": "light"
     },
     "output_type": "display_data"
    },
    {
     "name": "stdout",
     "output_type": "stream",
     "text": [
      "Linear regression on malignant cells:\n",
      "The initial value of alpha is: 6.283185307179586\n",
      "The initial value of loss value is: 38.93427064426372\n",
      "The final alpha is: -9.382367737162347e+71\n",
      "The final loss value is: 2.7743819849433768e+146\n"
     ]
    },
    {
     "data": {
      "image/png": "[encoded data removed]",
      "text/plain": [
       "<Figure size 432x288 with 1 Axes>"
      ]
     },
     "metadata": {
      "needs_background": "light"
     },
     "output_type": "display_data"
    },
    {
     "name": "stdout",
     "output_type": "stream",
     "text": [
      "Learning rate = 0.001\n",
      "Linear regression on benign cells:\n",
      "The initial value of alpha is: 6.283185307179586\n",
      "The initial value of loss value is: 4.320215995692195\n",
      "The final alpha is: 6.43162179471489\n",
      "The final loss value is: 0.9997976094672043\n"
     ]
    },
    {
     "data": {
      "image/png": "[encoded data removed]",
      "text/plain": [
       "<Figure size 432x288 with 1 Axes>"
      ]
     },
     "metadata": {
      "needs_background": "light"
     },
     "output_type": "display_data"
    },
    {
     "name": "stdout",
     "output_type": "stream",
     "text": [
      "Linear regression on malignant cells:\n",
      "The initial value of alpha is: 6.283185307179586\n",
      "The initial value of loss value is: 38.93427064426372\n",
      "The final alpha is: 6.612258213059991\n",
      "The final loss value is: 4.805110085338103\n"
     ]
    },
    {
     "data": {
      "image/png": "[encoded data removed]",
      "text/plain": [
       "<Figure size 432x288 with 1 Axes>"
      ]
     },
     "metadata": {
      "needs_background": "light"
     },
     "output_type": "display_data"
    },
    {
     "name": "stdout",
     "output_type": "stream",
     "text": [
      "Learning rate = 0.0001\n",
      "Linear regression on benign cells:\n",
      "The initial value of alpha is: 6.283185307179586\n",
      "The initial value of loss value is: 4.320215995692195\n",
      "The final alpha is: 6.4246643300655455\n",
      "The final loss value is: 1.0070924111340778\n"
     ]
    },
    {
     "data": {
      "image/png": "[encoded data removed]",
      "text/plain": [
       "<Figure size 432x288 with 1 Axes>"
      ]
     },
     "metadata": {
      "needs_background": "light"
     },
     "output_type": "display_data"
    },
    {
     "name": "stdout",
     "output_type": "stream",
     "text": [
      "Linear regression on malignant cells:\n",
      "The initial value of alpha is: 6.283185307179586\n",
      "The initial value of loss value is: 38.93427064426372\n",
      "The final alpha is: 6.61176877361184\n",
      "The final loss value is: 4.805185584006858\n"
     ]
    },
    {
     "data": {
      "image/png": "[encoded data removed]",
      "text/plain": [
       "<Figure size 432x288 with 1 Axes>"
      ]
     },
     "metadata": {
      "needs_background": "light"
     },
     "output_type": "display_data"
    }
   ],
   "source": [
    "# Set the number of iterations\n",
    "nb_its = 100 \n",
    "\n",
    "#Select the feature names\n",
    "feat1, feat2 = 'mean radius','mean perimeter'\n",
    "    \n",
    "# Learning rate\n",
    "for lr in [0.01,0.001,0.0001]:\n",
    "    print('Learning rate = {0}'.format(lr))\n",
    "    \n",
    "    #Go through each label\n",
    "    for label in labels:\n",
    "        print('Linear regression on {0} cells:'.format(label))\n",
    "\n",
    "        # Restrict the dataframe to the samples of the current label\n",
    "        df_label = df[df['label']==label]\n",
    "\n",
    "        # Get the needed variables for the selected samples\n",
    "        r = df_label[feat1].values    \n",
    "        p = df_label[feat2].values \n",
    "\n",
    "        # Initialize the alpha parameter\n",
    "        alpha0 = 2*np.pi\n",
    "        \n",
    "        #Display the initial alpha and loss values\n",
    "        print(\"The initial value of alpha is:\", alpha0)\n",
    "        loss_initial = (1/len(p))*np.sum((p-(alpha0*r))**2)\n",
    "        print(\"The initial value of loss value is:\",loss_initial)\n",
    "        \n",
    "        # Perform Gradient Descent \n",
    "        alpha, label_loss = linear_regression(p1=p, p2=r, lr=lr, nb_its=nb_its, alpha0=alpha0)\n",
    "\n",
    "        # Display the final alpha and loss value\n",
    "        print(\"The final alpha is:\",alpha)\n",
    "        print(\"The final loss value is:\",label_loss[-1])\n",
    "        # Display the results\n",
    "        fig, ax = plt.subplots()\n",
    "        ax.scatter(p, r)\n",
    "        y=r\n",
    "        x=alpha*r\n",
    "        ax.plot(x,y,c='r')\n",
    "        plt.show()"
   ]
  },
  {
   "cell_type": "markdown",
   "metadata": {},
   "source": [
    "<font color='blue'> \n",
    "We can see that for lr = 0.01, the resutls are really bad and high. \n",
    "And for lr = 0.0001, results are similar, but it takes too much time relative to 0.001.\n",
    "So our initial lr = 0.001 was the right one.\n",
    "</font>"
   ]
  },
  {
   "cell_type": "markdown",
   "metadata": {},
   "source": [
    "# II. Quadratic regression on breast cells' features using conjugate gradient methods"
   ]
  },
  {
   "cell_type": "markdown",
   "metadata": {},
   "source": [
    "## a) Visualization of the area and radius features"
   ]
  },
  {
   "cell_type": "markdown",
   "metadata": {},
   "source": [
    "We will now see if we can obtain the same result using another geometric feature and algorithm. For example, we suppose that if a cell is circular, we should have a quadratic relationship between its area and its radius. We will first visually check that assumption."
   ]
  },
  {
   "cell_type": "markdown",
   "metadata": {},
   "source": [
    "<font color='blue'> Question 11: \n",
    "- Plot the area values in function of the radius values. Use the \"color_dict\" dictionary to color the plotted points with the color of the associated label.\n",
    "- Visually, is there a linear relationship between these two features? \n",
    "- Visually, could you use these two labels alone to make the difference between healthy and malignant breast cells?</font>"
   ]
  },
  {
   "cell_type": "code",
   "execution_count": 113,
   "metadata": {},
   "outputs": [
    {
     "data": {
      "text/plain": [
       "Text(0.5, 1.0, 'Scatter plot of the area versus the radius')"
      ]
     },
     "execution_count": 113,
     "metadata": {},
     "output_type": "execute_result"
    },
    {
     "data": {
      "image/png": "[encoded data removed]",
      "text/plain": [
       "<Figure size 432x288 with 1 Axes>"
      ]
     },
     "metadata": {
      "needs_background": "light"
     },
     "output_type": "display_data"
    }
   ],
   "source": [
    "sns.scatterplot(x=df['mean area'], y=df['mean radius'], hue=df['label'],palette=color_dict)\n",
    "plt.title('Scatter plot of the area versus the radius')"
   ]
  },
  {
   "cell_type": "markdown",
   "metadata": {},
   "source": [
    "<font color='blue'> \n",
    "\n",
    "- Visually we can see that there is a relationship between these two features but not linear.\n",
    "    \n",
    "- Visually, we could use these two labels to make the difference between healthy and malignant breast cells, but we will have some errors at some point (around [500;1000]).\n",
    "\n",
    "</font>"
   ]
  },
  {
   "cell_type": "markdown",
   "metadata": {},
   "source": [
    "## b) Circle fitting using quadratic regression on cells' features"
   ]
  },
  {
   "cell_type": "markdown",
   "metadata": {},
   "source": [
    "We will now assess more rigoroulsy the circularity of the breast cells from the Winsconsin dataset, using quadratic regression. More precisely, we look for a relationship between the area $a$ and the radius $r$: \n",
    "\n",
    "<center>$a = \\alpha * r^2 + \\beta * r + \\gamma $ </center>"
   ]
  },
  {
   "cell_type": "markdown",
   "metadata": {},
   "source": [
    "<font color='blue'> Question 12: if the cells are circular, what are the expected values of $\\alpha$, $\\beta$ and $\\gamma$ ? </font>"
   ]
  },
  {
   "cell_type": "markdown",
   "metadata": {},
   "source": [
    "<font color='blue'> \n",
    "\n",
    "We know that the formula for the area of a circle is: p = pi*r^2, with r the radius of this circle.\n",
    "Initially, supposing breast cells are circular, 𝛼 would be equal to pi and 𝛽 to 0, 𝛾 to 0.\n",
    "</font>"
   ]
  },
  {
   "cell_type": "markdown",
   "metadata": {},
   "source": [
    "Without making any simplification, we will now minimize the following loss we call L2:\n",
    "\n",
    " $\\displaystyle \\frac{1}{n} \\sum_{x=1}^n (a_i - (\\alpha * r_i^2 + \\beta * r_i + \\gamma)) ^ 2$\n",
    " \n",
    " with $n$ the number of samples in the dataset, $a_i$ the area of sample $i$ and $r_i$ the radius of this same sample. We will now optimize this loss, but first we need to implement it."
   ]
  },
  {
   "cell_type": "markdown",
   "metadata": {},
   "source": [
    "<font color='blue'> Question 13: complete the function implementing the loss L2. </font>"
   ]
  },
  {
   "cell_type": "code",
   "execution_count": 232,
   "metadata": {},
   "outputs": [],
   "source": [
    "def L2_loss(x, args):\n",
    "\n",
    "    \"\"\"\n",
    "    Loss function used in a quadratic regression between two input variables p1 and p2,\n",
    "    so that p1 = alpha * p2 ** 2 + beta * p2 + gamma\n",
    "    with alpha, beta and gamma the parameters to optimize\n",
    "    \n",
    "    Parameters\n",
    "    ----------\n",
    "    x: 3-vector\n",
    "        the vector containing the alpha, beta and gamma values\n",
    "    p1: vector\n",
    "        the vector containing the first variable values\n",
    "    p2: vector\n",
    "        the vector containing the second variable values\n",
    "        \n",
    "    Returns\n",
    "    -------\n",
    "    loss_val: float\n",
    "        the loss value\n",
    "        \n",
    "    Command:\n",
    "    loss_val = L2_loss(x, p1, p2)\n",
    "    \n",
    "    \"\"\"\n",
    "    p1, p2 = args['p1'],args['p2']\n",
    "    # Get the input variables\n",
    "    alpha, beta, gamma = x\n",
    "    \n",
    "    #Compute and return the L2 loss value\n",
    "    loss_val = (1/len(p1))*np.sum((p1-(alpha*(p2**2)+beta*p2+gamma))**2)\n",
    "    \n",
    "    return loss_val"
   ]
  },
  {
   "cell_type": "markdown",
   "metadata": {},
   "source": [
    "<font color='blue'> Question 13: complete the function implementing the partial derivatives of the loss L2 with respect to alpha, beta and gamma. </font>"
   ]
  },
  {
   "cell_type": "code",
   "execution_count": 233,
   "metadata": {},
   "outputs": [],
   "source": [
    "def L2_der(x, args):\n",
    "\n",
    "    \"\"\"\n",
    "    Partial derivatives of the loss function L2 used in a quadratic regression between two input variables \n",
    "    p1 and p2, so that p1 = alpha * p2 ** 2 + beta * p2 + gamma\n",
    "    with alpha, beta and gamma the parameters to optimize\n",
    "    \n",
    "    Parameters\n",
    "    ----------\n",
    "    x: 3-vector\n",
    "        the vector containing the alpha, beta and gamma values\n",
    "    p1: vector\n",
    "        the vector containing the first variable values\n",
    "    p2: vector\n",
    "        the vector containing the second variable values\n",
    "        \n",
    "    Returns\n",
    "    -------\n",
    "    loss_der: float\n",
    "        the 3-vector of partial derivatives\n",
    "        \n",
    "    Command:\n",
    "    loss_der = L2_der(x, p1, p2)\n",
    "    \n",
    "    \"\"\"\n",
    "    p1, p2 = args['p1'],args['p2']\n",
    "\n",
    "    # Get the input variables\n",
    "    alpha, beta, gamma = x\n",
    "    \n",
    "    # Compute the partial derivative of L2 with respect to alpha\n",
    "    d_alpha = np.mean(4*p2*(-p1+alpha*(p2**2)+beta*p2+gamma))\n",
    "    \n",
    "    # Compute the partial derivative of L2 with respect to beta\n",
    "    d_beta = np.mean(-2*p2*(p1-alpha*(p2**2)-beta*p2-gamma))\n",
    "    \n",
    "    # Compute the partial derivative of L2 with respect to gamma\n",
    "    d_gamma = np.mean(2*(p1-alpha*(p2**2)-beta*p2-gamma))\n",
    "    \n",
    "    # Return the vector of partial derivatives\n",
    "    loss_der = np.array([d_alpha, d_beta, d_gamma])\n",
    "    \n",
    "    return loss_der"
   ]
  },
  {
   "cell_type": "markdown",
   "metadata": {},
   "source": [
    "<font color='blue'> Question 14: apply a quadratic regression between the area and radius feature values. As previously, make the distinction between the labels, and perform the following steps:\n",
    "- Initialize the process using the expected value of $\\alpha$, $\\beta$ and $\\gamma$, display these values and the one of the initial loss L2.\n",
    "- Apply the conjugate gradient method using the optimize function from the Scipy library, and asociate the \"jac\" and \"args\" arguments with the appropriated function or variables. \n",
    "- Display the optimized alpha, beta, gamma and L2 final loss values\n",
    "</font>"
   ]
  },
  {
   "cell_type": "code",
   "execution_count": 237,
   "metadata": {},
   "outputs": [
    {
     "name": "stdout",
     "output_type": "stream",
     "text": [
      "The initial value of alpha is: 3.141592653589793\n",
      "The initial value of beta is: 0.0\n",
      "The initial value of gamma is: 0.0\n",
      "\n",
      "Quadratic regression on benign cells:\n",
      "The initial loss is: 140.1446267318879\n",
      "The final value of alpha is: 3.075366581134852\n",
      "The final value of beta is: -0.033113036227470624\n",
      "The final value of gamma is: 0.002711293071482872\n",
      "The final loss value is: 26.203138548623443\n",
      "\n",
      "Quadratic regression on malignant cells:\n",
      "The initial loss is: 684.1691819607581\n",
      "The final value of alpha is: 3.1060598043487397\n",
      "The final value of beta is: -0.01776642462052681\n",
      "The final value of gamma is: 0.0009886812850929253\n",
      "The final loss value is: 536.156121107313\n"
     ]
    }
   ],
   "source": [
    "# Initialize the vector of variables to optimize\n",
    "x0 = np.array([np.pi,0,0])\n",
    "\n",
    "# Display the initial variable values\n",
    "print(\"The initial value of alpha is:\", x0[0])\n",
    "print(\"The initial value of beta is:\", x0[1])\n",
    "print(\"The initial value of gamma is:\", x0[2])\n",
    "\n",
    "# Features to select\n",
    "feat1, feat2 = 'mean area','mean radius'\n",
    "\n",
    "#Go through each label\n",
    "for label in labels:\n",
    "    print()\n",
    "    print('Quadratic regression on {0} cells:'.format(label))\n",
    "\n",
    "        # Restrict the dataframe to the samples of the current label\n",
    "    df_label = df[df['label']==label]\n",
    "\n",
    "        # Get the needed variables for the selected samples\n",
    "    a = df_label[feat1].values    \n",
    "    r = df_label[feat2].values \n",
    "\n",
    "        # Display the initial loss\n",
    "    loss_val = (1/len(a))*np.sum((a-(x0[0]*(r**2)+x0[1]*r+x0[2]))**2)\n",
    "    print('The initial loss is:',loss_val)\n",
    "    \n",
    "        # Optimization using conjugate gradient\n",
    "    additional = {'p1': a, 'p2':r}\n",
    "    conj_gradient = minimize(method='CG', fun=L2_loss,args=additional, x0=x0, jac=L2_der)\n",
    "\n",
    "        # Display the final variable values\n",
    "    print(\"The final value of alpha is:\", optimize.OptimizeResult(conj_gradient).x[0])\n",
    "    print(\"The final value of beta is:\", optimize.OptimizeResult(conj_gradient).x[1])\n",
    "    print(\"The final value of gamma is:\", optimize.OptimizeResult(conj_gradient).x[2])\n",
    "\n",
    "        # Display the final loss value\n",
    "    print(\"The final loss value is:\", optimize.OptimizeResult(conj_gradient).fun)\n"
   ]
  },
  {
   "cell_type": "markdown",
   "metadata": {},
   "source": [
    "<font color='blue'> Question 15: based on the result of the previous question, is there a significative difference in circularity between healthy and pathological cells ? </font>"
   ]
  },
  {
   "cell_type": "markdown",
   "metadata": {},
   "source": [
    "<font color='blue'> \n",
    "\n",
    "Based on the result of the previous question, there is actually a small difference in circularity between healthy and pathological cells. The difference is not significative, but we have a bigger loss value for malignant cells (536.2>26.2)\n",
    "\n",
    "</font>"
   ]
  }
 ],
 "metadata": {
  "kernelspec": {
   "display_name": "Python 3 (ipykernel)",
   "language": "python",
   "name": "python3"
  },
  "language_info": {
   "codemirror_mode": {
    "name": "ipython",
    "version": 3
   },
   "file_extension": ".py",
   "mimetype": "text/x-python",
   "name": "python",
   "nbconvert_exporter": "python",
   "pygments_lexer": "ipython3",
   "version": "3.9.7"
  }
 },
 "nbformat": 4,
 "nbformat_minor": 2
}
