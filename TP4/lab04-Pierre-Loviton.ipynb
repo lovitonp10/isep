{
 "cells": [
  {
   "cell_type": "code",
   "execution_count": 1,
   "metadata": {},
   "outputs": [],
   "source": [
    "##############################################################################\n",
    "# OPTIMIZATION & AI - LAB 04   Pierre LOVITON\n",
    "##############################################################################"
   ]
  },
  {
   "cell_type": "code",
   "execution_count": 148,
   "metadata": {},
   "outputs": [],
   "source": [
    "# System imports\n",
    "import matplotlib.pyplot as plt\n",
    "import numpy as np\n",
    "\n",
    "#Extra library imports\n",
    "import pandas as pd\n",
    "from scipy.optimize import linprog, brute\n",
    "from itertools import product"
   ]
  },
  {
   "cell_type": "code",
   "execution_count": 3,
   "metadata": {},
   "outputs": [],
   "source": [
    "# User inputs\n",
    "csvfile1 = 'vote-v1.csv'\n",
    "csvfile2 = 'vote-v2.csv'\n",
    "max_budget = 500000"
   ]
  },
  {
   "cell_type": "markdown",
   "metadata": {},
   "source": [
    "Participatory budgeting is a sourcing process allowing city or country to fund budgets based on the votes of the involved citizens. For example, the City Hall of Paris organizes a campaign every year since 2015, where Parisian can vote for projects supporting many various fields impacting their everyday life such as ecological transition, sport or education (see https://budgetparticipatif.paris.fr for precise examples)! In this lab, we will consider the selection of projects after the vote as an constrained optmization problem, and compare this approach with the one chosen until 2020."
   ]
  },
  {
   "cell_type": "markdown",
   "metadata": {},
   "source": [
    "# I.  Paris' participatory budgeting"
   ]
  },
  {
   "cell_type": "markdown",
   "metadata": {},
   "source": [
    "## a) Data exploration"
   ]
  },
  {
   "cell_type": "markdown",
   "metadata": {},
   "source": [
    "We will first work on a realistic dataset, based on samples of real projects submitted for voting."
   ]
  },
  {
   "cell_type": "markdown",
   "metadata": {},
   "source": [
    "<font color='blue'> Question 1: open the 'votes-v1.csv' using pandas. Assign a variable \"nb_projects\" with the number of projects, for example using the attribute \"shape\" from Pandas. Display the available information for the 5 first projects using the head attribute. </font>"
   ]
  },
  {
   "cell_type": "code",
   "execution_count": 177,
   "metadata": {},
   "outputs": [
    {
     "name": "stdout",
     "output_type": "stream",
     "text": [
      "12 projects\n"
     ]
    },
    {
     "data": {
      "text/html": [
       "<div>\n",
       "<style scoped>\n",
       "    .dataframe tbody tr th:only-of-type {\n",
       "        vertical-align: middle;\n",
       "    }\n",
       "\n",
       "    .dataframe tbody tr th {\n",
       "        vertical-align: top;\n",
       "    }\n",
       "\n",
       "    .dataframe thead th {\n",
       "        text-align: right;\n",
       "    }\n",
       "</style>\n",
       "<table border=\"1\" class=\"dataframe\">\n",
       "  <thead>\n",
       "    <tr style=\"text-align: right;\">\n",
       "      <th></th>\n",
       "      <th>Project_id</th>\n",
       "      <th>Nb_votes</th>\n",
       "      <th>Cost</th>\n",
       "    </tr>\n",
       "  </thead>\n",
       "  <tbody>\n",
       "    <tr>\n",
       "      <th>0</th>\n",
       "      <td>proj-01</td>\n",
       "      <td>195</td>\n",
       "      <td>100000</td>\n",
       "    </tr>\n",
       "    <tr>\n",
       "      <th>1</th>\n",
       "      <td>proj-02</td>\n",
       "      <td>167</td>\n",
       "      <td>30000</td>\n",
       "    </tr>\n",
       "    <tr>\n",
       "      <th>2</th>\n",
       "      <td>proj-03</td>\n",
       "      <td>262</td>\n",
       "      <td>15000</td>\n",
       "    </tr>\n",
       "    <tr>\n",
       "      <th>3</th>\n",
       "      <td>proj-04</td>\n",
       "      <td>227</td>\n",
       "      <td>415000</td>\n",
       "    </tr>\n",
       "    <tr>\n",
       "      <th>4</th>\n",
       "      <td>proj-05</td>\n",
       "      <td>110</td>\n",
       "      <td>6000</td>\n",
       "    </tr>\n",
       "  </tbody>\n",
       "</table>\n",
       "</div>"
      ],
      "text/plain": [
       "  Project_id  Nb_votes    Cost\n",
       "0    proj-01       195  100000\n",
       "1    proj-02       167   30000\n",
       "2    proj-03       262   15000\n",
       "3    proj-04       227  415000\n",
       "4    proj-05       110    6000"
      ]
     },
     "execution_count": 177,
     "metadata": {},
     "output_type": "execute_result"
    }
   ],
   "source": [
    "# Load the first csv file\n",
    "df = pd.read_csv('votes-v1.csv')\n",
    "\n",
    "# Get the number of projects\n",
    "nb_projects = df.shape[0]\n",
    "print('{0} projects'.format(nb_projects))\n",
    "\n",
    "# Display the 5 first lines\n",
    "df.head()"
   ]
  },
  {
   "cell_type": "code",
   "execution_count": 8,
   "metadata": {},
   "outputs": [
    {
     "data": {
      "text/plain": [
       "(12, 3)"
      ]
     },
     "execution_count": 8,
     "metadata": {},
     "output_type": "execute_result"
    }
   ],
   "source": [
    "df.shape"
   ]
  },
  {
   "cell_type": "markdown",
   "metadata": {},
   "source": [
    "We read for example that the cost of the first project is 100000 euros, and that it received 195 votes."
   ]
  },
  {
   "cell_type": "markdown",
   "metadata": {},
   "source": [
    "<font color='blue'> Question 2: supposing that each voter could choose only one project, how many people did vote? If all the projects were accepted, what would be the total cost? You may use the \"sum\" attribute from Pandas to answer these questions.</font> "
   ]
  },
  {
   "cell_type": "code",
   "execution_count": 178,
   "metadata": {},
   "outputs": [
    {
     "name": "stdout",
     "output_type": "stream",
     "text": [
      "1880 total votes\n",
      "1319000 total cost\n"
     ]
    }
   ],
   "source": [
    "nb_total_voters = sum(df.Nb_votes)\n",
    "print('{0} total votes'.format(nb_total_voters))\n",
    "\n",
    "nb_total_cost = sum(df.Cost)\n",
    "print('{0} total cost'.format(nb_total_cost))"
   ]
  },
  {
   "cell_type": "markdown",
   "metadata": {},
   "source": [
    "Supposing that the City Hall of Paris cannot spend more than 500000 euros to fund these projects, you should conclude that unfortunately all the projects cannot be selected.\n",
    "\n",
    "Moreover, as in other democratic processes, we usually reason using the percentage of voters rather than the total number of voters. To that purpose, we now create a new variable."
   ]
  },
  {
   "cell_type": "markdown",
   "metadata": {},
   "source": [
    "<font color='blue'> Question 3: add the column 'Ratio_voters' associated with each project the ratio of voters who voted for that project.</font> "
   ]
  },
  {
   "cell_type": "code",
   "execution_count": 179,
   "metadata": {},
   "outputs": [],
   "source": [
    "df['Ratio_voters'] = round(df.Nb_votes/nb_total_voters*100,2)"
   ]
  },
  {
   "cell_type": "code",
   "execution_count": 16,
   "metadata": {},
   "outputs": [
    {
     "data": {
      "text/html": [
       "<div>\n",
       "<style scoped>\n",
       "    .dataframe tbody tr th:only-of-type {\n",
       "        vertical-align: middle;\n",
       "    }\n",
       "\n",
       "    .dataframe tbody tr th {\n",
       "        vertical-align: top;\n",
       "    }\n",
       "\n",
       "    .dataframe thead th {\n",
       "        text-align: right;\n",
       "    }\n",
       "</style>\n",
       "<table border=\"1\" class=\"dataframe\">\n",
       "  <thead>\n",
       "    <tr style=\"text-align: right;\">\n",
       "      <th></th>\n",
       "      <th>Project_id</th>\n",
       "      <th>Nb_votes</th>\n",
       "      <th>Cost</th>\n",
       "      <th>Ratio_voters</th>\n",
       "    </tr>\n",
       "  </thead>\n",
       "  <tbody>\n",
       "    <tr>\n",
       "      <th>0</th>\n",
       "      <td>proj-01</td>\n",
       "      <td>195</td>\n",
       "      <td>100000</td>\n",
       "      <td>10.37</td>\n",
       "    </tr>\n",
       "    <tr>\n",
       "      <th>1</th>\n",
       "      <td>proj-02</td>\n",
       "      <td>167</td>\n",
       "      <td>30000</td>\n",
       "      <td>8.88</td>\n",
       "    </tr>\n",
       "    <tr>\n",
       "      <th>2</th>\n",
       "      <td>proj-03</td>\n",
       "      <td>262</td>\n",
       "      <td>15000</td>\n",
       "      <td>13.94</td>\n",
       "    </tr>\n",
       "    <tr>\n",
       "      <th>3</th>\n",
       "      <td>proj-04</td>\n",
       "      <td>227</td>\n",
       "      <td>415000</td>\n",
       "      <td>12.07</td>\n",
       "    </tr>\n",
       "    <tr>\n",
       "      <th>4</th>\n",
       "      <td>proj-05</td>\n",
       "      <td>110</td>\n",
       "      <td>6000</td>\n",
       "      <td>5.85</td>\n",
       "    </tr>\n",
       "  </tbody>\n",
       "</table>\n",
       "</div>"
      ],
      "text/plain": [
       "  Project_id  Nb_votes    Cost  Ratio_voters\n",
       "0    proj-01       195  100000         10.37\n",
       "1    proj-02       167   30000          8.88\n",
       "2    proj-03       262   15000         13.94\n",
       "3    proj-04       227  415000         12.07\n",
       "4    proj-05       110    6000          5.85"
      ]
     },
     "execution_count": 16,
     "metadata": {},
     "output_type": "execute_result"
    }
   ],
   "source": [
    "df.head()"
   ]
  },
  {
   "cell_type": "markdown",
   "metadata": {},
   "source": [
    "<font color='blue'> Question 4: compute automatically and display the name of the project that received the highest percentage of votes. Compute automatically and display also the highest percentage of votes. You may use the max attribute from Pandas. </font> "
   ]
  },
  {
   "cell_type": "code",
   "execution_count": 18,
   "metadata": {},
   "outputs": [
    {
     "name": "stdout",
     "output_type": "stream",
     "text": [
      "13.94% highest percentage of votes\n"
     ]
    }
   ],
   "source": [
    "highest_percentage_votes = max(df.Ratio_voters)\n",
    "print('{0}% highest percentage of votes'.format(highest_percentage_votes))"
   ]
  },
  {
   "cell_type": "markdown",
   "metadata": {},
   "source": [
    "<font color='blue'> Question 5: compute automatically and display the name of the project that received the lowest percentage of votes. Compute automatically and display also the lowest percentage of votes. You may use the min attribute from Pandas. </font> "
   ]
  },
  {
   "cell_type": "code",
   "execution_count": 19,
   "metadata": {},
   "outputs": [
    {
     "name": "stdout",
     "output_type": "stream",
     "text": [
      "3.99% lowest percentage of votes\n"
     ]
    }
   ],
   "source": [
    "lowest_percentage_votes = min(df.Ratio_voters)\n",
    "print('{0}% lowest percentage of votes'.format(lowest_percentage_votes))"
   ]
  },
  {
   "cell_type": "markdown",
   "metadata": {},
   "source": [
    "## b) Project selection using linear programming"
   ]
  },
  {
   "cell_type": "markdown",
   "metadata": {},
   "source": [
    "Once the votes have been received, the process should select projects to satisfy as many voters as possible. However, the City Hall of Paris limits the budget allocated to fund all the selected projects to a fix amount (the \"max_budget\" variable).\n",
    "We formulate this decision making process as the following linear programming problem:\n",
    "\n",
    "$\\min \\boldsymbol{-}\\displaystyle \\sum_{i=1}^n x_i r_i$ s.t. $\\min \\displaystyle \\sum_{i=1}^n x_i c_i \\leq \\textrm{max_budget}$\n",
    "\n",
    "with $n$ the number of projects, $x_i$ the decision of selecting or not project $i$, $r_i$ the percentage of voters choosing project $i$, and $c_i$ the cost of project $i$.\n",
    "We would like $x$, the vector of variables to optimize, to represent the percentage of chance for a project to be selected. Thus, we force each variable $x_i$ to belong in $[0, 1]$.\n",
    "We will now solve this linear programming problem using Scipy."
   ]
  },
  {
   "cell_type": "markdown",
   "metadata": {},
   "source": [
    "<font color='blue'> Question 6: complete the code below to solve this problem using the **revised simplex method**.</font> "
   ]
  },
  {
   "cell_type": "code",
   "execution_count": 27,
   "metadata": {},
   "outputs": [
    {
     "name": "stdout",
     "output_type": "stream",
     "text": [
      "     con: array([], dtype=float64)\n",
      "     fun: -80.05125301204819\n",
      " message: 'Optimization terminated successfully.'\n",
      "     nit: 12\n",
      "   slack: array([0.])\n",
      "  status: 0\n",
      " success: True\n",
      "       x: array([1.        , 1.        , 1.        , 0.20722892, 1.        ,\n",
      "       1.        , 1.        , 1.        , 0.        , 1.        ,\n",
      "       1.        , 1.        ])\n"
     ]
    }
   ],
   "source": [
    "# Set the coefficients of the linear objective function to be minimized\n",
    "c = -df['Ratio_voters'].values\n",
    "\n",
    "# Set the inequality constraint matrix\n",
    "A = [list(df.Cost.values),]\n",
    "\n",
    "# Set the inequality constraint vector\n",
    "max_budget = 500000\n",
    "b = [max_budget]\n",
    "\n",
    "#Set the bounds\n",
    "bounds = []\n",
    "for i in range (nb_projects):\n",
    "    bounds.append((0,1))\n",
    "    \n",
    "# Select the optimization method\n",
    "method = 'revised simplex'\n",
    "\n",
    "# Perform the optimization using the simplex method\n",
    "res = linprog(c, A_ub=A, b_ub=b, method=method, bounds=bounds)\n",
    "\n",
    "# Display the optimization result\n",
    "print(res)"
   ]
  },
  {
   "cell_type": "markdown",
   "metadata": {},
   "source": [
    "<font color='blue'> Question 7: display the objective function value after optimization using the appropriated attribute of the optimization result. Compare this value with the one obtained using the \"x\" attribute of the optimization result and the appropriated input.</font> "
   ]
  },
  {
   "cell_type": "code",
   "execution_count": 33,
   "metadata": {},
   "outputs": [
    {
     "data": {
      "text/plain": [
       "     con: array([], dtype=float64)\n",
       "     fun: -80.05125301204819\n",
       " message: 'Optimization terminated successfully.'\n",
       "     nit: 12\n",
       "   slack: array([0.])\n",
       "  status: 0\n",
       " success: True\n",
       "       x: array([1.        , 1.        , 1.        , 0.20722892, 1.        ,\n",
       "       1.        , 1.        , 1.        , 0.        , 1.        ,\n",
       "       1.        , 1.        ])"
      ]
     },
     "execution_count": 33,
     "metadata": {},
     "output_type": "execute_result"
    }
   ],
   "source": [
    "res"
   ]
  },
  {
   "cell_type": "code",
   "execution_count": 83,
   "metadata": {
    "scrolled": false
   },
   "outputs": [
    {
     "name": "stdout",
     "output_type": "stream",
     "text": [
      "The optimal value of the objective function is -80.05\n",
      "The x array shows us the probability of each project being chosen  [1.         1.         1.         0.20722892 1.         1.\n",
      " 1.         1.         0.         1.         1.         1.        ]\n",
      "If we divide multiply x by r and -1 and we do the sum we have to obtain f : -80.05\n"
     ]
    }
   ],
   "source": [
    "print(\"The optimal value of the objective function is\",round(res.fun,2))\n",
    "print(\"The x array shows us the probability of each project being chosen \", res.x)\n",
    "print(\"If we divide multiply x by r and -1 and we do the sum we have to obtain f :\", round(-1*np.sum(res.x*df['Ratio_voters']),2))"
   ]
  },
  {
   "cell_type": "markdown",
   "metadata": {},
   "source": [
    "Visually, we see that each optimized variable value belongs in $[0, 1]$. However, we still have to decide to select or not the associated projects. To that purpose, we decide to select projects associated with an optimized variable value strictly higher than 0.5."
   ]
  },
  {
   "cell_type": "markdown",
   "metadata": {},
   "source": [
    "<font color='blue'> Question 8: select the projects associated with a final value strictly higher than 0.5. Display automatically the number of selected projects and their names. Are the most and the least popular projects selected? </font> "
   ]
  },
  {
   "cell_type": "code",
   "execution_count": 73,
   "metadata": {},
   "outputs": [
    {
     "name": "stdout",
     "output_type": "stream",
     "text": [
      "0     proj-01\n",
      "1     proj-02\n",
      "2     proj-03\n",
      "4     proj-05\n",
      "5     proj-06\n",
      "6     proj-07\n",
      "7     proj-08\n",
      "9     proj-10\n",
      "10    proj-11\n",
      "11    proj-12\n",
      "Name: Project_id, dtype: object\n",
      "\n",
      "Number of project chosen is : 10\n",
      "2    proj-03\n",
      "Name: Project_id, dtype: object\n",
      "5    proj-06\n",
      "Name: Project_id, dtype: object\n"
     ]
    }
   ],
   "source": [
    "proj_selected = df['Project_id'].loc[res.x>=0.5]\n",
    "print(proj_selected)\n",
    "print(\"\\nNumber of project chosen is :\",proj_selected.shape[0])\n",
    "\n",
    "print(df['Project_id'].loc[df['Ratio_voters']==highest_percentage_votes])\n",
    "print(df['Project_id'].loc[df['Ratio_voters']==lowest_percentage_votes])"
   ]
  },
  {
   "cell_type": "markdown",
   "metadata": {},
   "source": [
    "<font color='blue'> \n",
    "    We can see that proj-03 (highest percentage votes) and proj-06 (lowest percentage votes) are projects selected\n",
    "</font> "
   ]
  },
  {
   "cell_type": "markdown",
   "metadata": {},
   "source": [
    "<font color='blue'> Question 9: compute and display the total cost of all the finally selected projects by our method and the percentage of satisfied voters. Is the maximal allocated budget exceeded?</font> "
   ]
  },
  {
   "cell_type": "code",
   "execution_count": 84,
   "metadata": {},
   "outputs": [
    {
     "name": "stdout",
     "output_type": "stream",
     "text": [
      "The total cost of all the finally selected projects is 414000\n",
      "The percentage of satisfied voters is 77.54999999999998\n"
     ]
    }
   ],
   "source": [
    "# Total cost of selected projects \n",
    "print(\"The total cost of all the finally selected projects is\",sum(df['Cost'].loc[res.x>=0.5]))\n",
    "\n",
    "# Total ratio of satisfied voters \n",
    "print(\"The percentage of satisfied voters is\",sum(df['Ratio_voters'].loc[res.x>=0.5]))"
   ]
  },
  {
   "cell_type": "markdown",
   "metadata": {},
   "source": [
    "<font color='blue'> \n",
    "The allocated budget is 500 000 and we can see see that the total cost is 414 000 so it's not exceeded.\n",
    "</font> "
   ]
  },
  {
   "cell_type": "markdown",
   "metadata": {},
   "source": [
    "<font color='blue'> Question 10: solve the problem using the **interior point method**. What is the main difference in performances between the two algorithms? What algorithm would you prefer for this application?</font> "
   ]
  },
  {
   "cell_type": "code",
   "execution_count": 95,
   "metadata": {},
   "outputs": [
    {
     "name": "stdout",
     "output_type": "stream",
     "text": [
      "     con: array([], dtype=float64)\n",
      "     fun: -80.05125301209175\n",
      " message: 'The solution does not satisfy the constraints within the required tolerance of 3.16E-04, yet no errors were raised and there is no certificate of infeasibility or unboundedness. Check whether the slack and constraint residuals are acceptable; if not, consider enabling presolve, adjusting the tolerance option(s), and/or using a different method. Please consider submitting a bug report.'\n",
      "     nit: 6\n",
      "   slack: array([-0.00101738])\n",
      "  status: 4\n",
      " success: False\n",
      "       x: array([9.99999999e-01, 1.00000000e+00, 9.99999998e-01, 2.07228917e-01,\n",
      "       1.00000000e+00, 9.99999996e-01, 9.99999996e-01, 1.00000000e+00,\n",
      "       4.80723428e-12, 1.00000000e+00, 9.99999999e-01, 1.00000000e+00])\n"
     ]
    }
   ],
   "source": [
    "# Perform the interior point method\n",
    "method = 'interior-point'\n",
    "res = linprog(c, A_ub=A, b_ub=b, method=method, bounds=bounds)\n",
    "\n",
    "# Display the optimization result\n",
    "print(res)"
   ]
  },
  {
   "cell_type": "markdown",
   "metadata": {},
   "source": [
    "<font color='blue'> \n",
    "The main difference is that the interior point method has a higher complexity than the revised simplex. It's better to chose the second one for simple linear problem (2D). The interior point and revised simplex methods converge but the first one need more iterations.\n",
    "    So here we prefer for this problem the revised simplex method.\n",
    "</font> "
   ]
  },
  {
   "cell_type": "markdown",
   "metadata": {},
   "source": [
    "## c) Comparison with other methods"
   ]
  },
  {
   "cell_type": "markdown",
   "metadata": {},
   "source": [
    "We will now compare our linear programming approach with the method initially applied by the City Hall of Paris. Until 2020, the projects were ordered by decreasing order of the number of votes, and progressively selected as long as the total cost value of the chosen projects remained less than or equal to the maximal allocated budget."
   ]
  },
  {
   "cell_type": "markdown",
   "metadata": {},
   "source": [
    "<font color='blue'> Question 11: implement the selection method applied by the City Hall of Paris until 2020. You may use the \"sort_values\" and \"cumsum\" values of Pandas. What are the names of the projects selected by this approach? Is the less popular project selected? Compute and display the total cost of the selected projects, and the percentage of satisfied voters. Compare with our method.</font> "
   ]
  },
  {
   "cell_type": "code",
   "execution_count": 112,
   "metadata": {
    "scrolled": false
   },
   "outputs": [
    {
     "data": {
      "text/html": [
       "<div>\n",
       "<style scoped>\n",
       "    .dataframe tbody tr th:only-of-type {\n",
       "        vertical-align: middle;\n",
       "    }\n",
       "\n",
       "    .dataframe tbody tr th {\n",
       "        vertical-align: top;\n",
       "    }\n",
       "\n",
       "    .dataframe thead th {\n",
       "        text-align: right;\n",
       "    }\n",
       "</style>\n",
       "<table border=\"1\" class=\"dataframe\">\n",
       "  <thead>\n",
       "    <tr style=\"text-align: right;\">\n",
       "      <th></th>\n",
       "      <th>Project_id</th>\n",
       "      <th>Nb_votes</th>\n",
       "      <th>Cost</th>\n",
       "      <th>Ratio_voters</th>\n",
       "    </tr>\n",
       "  </thead>\n",
       "  <tbody>\n",
       "    <tr>\n",
       "      <th>0</th>\n",
       "      <td>proj-03</td>\n",
       "      <td>262</td>\n",
       "      <td>15000</td>\n",
       "      <td>13.94</td>\n",
       "    </tr>\n",
       "    <tr>\n",
       "      <th>1</th>\n",
       "      <td>proj-04</td>\n",
       "      <td>227</td>\n",
       "      <td>415000</td>\n",
       "      <td>12.07</td>\n",
       "    </tr>\n",
       "    <tr>\n",
       "      <th>2</th>\n",
       "      <td>proj-01</td>\n",
       "      <td>195</td>\n",
       "      <td>100000</td>\n",
       "      <td>10.37</td>\n",
       "    </tr>\n",
       "    <tr>\n",
       "      <th>3</th>\n",
       "      <td>proj-09</td>\n",
       "      <td>195</td>\n",
       "      <td>490000</td>\n",
       "      <td>10.37</td>\n",
       "    </tr>\n",
       "    <tr>\n",
       "      <th>4</th>\n",
       "      <td>proj-07</td>\n",
       "      <td>191</td>\n",
       "      <td>25000</td>\n",
       "      <td>10.16</td>\n",
       "    </tr>\n",
       "  </tbody>\n",
       "</table>\n",
       "</div>"
      ],
      "text/plain": [
       "  Project_id  Nb_votes    Cost  Ratio_voters\n",
       "0    proj-03       262   15000         13.94\n",
       "1    proj-04       227  415000         12.07\n",
       "2    proj-01       195  100000         10.37\n",
       "3    proj-09       195  490000         10.37\n",
       "4    proj-07       191   25000         10.16"
      ]
     },
     "execution_count": 112,
     "metadata": {},
     "output_type": "execute_result"
    }
   ],
   "source": [
    "df = df.sort_values('Nb_votes',ascending= False).reset_index(drop=True)\n",
    "df.head()"
   ]
  },
  {
   "cell_type": "code",
   "execution_count": 129,
   "metadata": {},
   "outputs": [
    {
     "name": "stdout",
     "output_type": "stream",
     "text": [
      "We cannot select another project, total cost is 430000\n",
      "We selected these projects: ['proj-03', 'proj-04']\n",
      "Percentage of satisfied voters is: 26.01\n"
     ]
    }
   ],
   "source": [
    "df['Cost_cumsum'] = df.Cost.cumsum().reset_index(drop=True)\n",
    "list1 = []\n",
    "list2 = []\n",
    "\n",
    "for i in range(df.shape[0]): \n",
    "    if df.Cost_cumsum[i] <=500000:\n",
    "        list1.append(df['Project_id'][i])\n",
    "        list2.append(df['Ratio_voters'][i])\n",
    "\n",
    "    else:\n",
    "        print(\"We cannot select another project, total cost is\",df['Cost_cumsum'][i-1])\n",
    "        print(\"We selected these projects:\",list1)\n",
    "        print(\"Percentage of satisfied voters is:\",round(sum(list2),2))  \n",
    "        break"
   ]
  },
  {
   "cell_type": "markdown",
   "metadata": {},
   "source": [
    "<font color='blue'> With this method, we can see immediatly that there is a problem. The two projects with the most votes are selected, but only these two. Only 2 project were selected for 430000$ and 26.01% of satisfied voters, and with our method, there were 77.54% satisfied voters and a budget of 414000. Our method is really better than this one. </font> "
   ]
  },
  {
   "cell_type": "markdown",
   "metadata": {},
   "source": [
    "We will now compare the linear programming approach with the brute force method, i.e computing all the possible solutions and selecting the best one. **Ensure that the constraints are also respected!**"
   ]
  },
  {
   "cell_type": "markdown",
   "metadata": {},
   "source": [
    "<font color='blue'> Question 12: what is the total number of possible solutions? Write the answer as a function of the number of projects $n$. Compute the best solution among all the possible ones. You may use the \"product\" function of the \"itertool\" library. Display the names, the total cost, and the percentage of voters satisfied by the selected projects. Did we obtain the best possible solution using linear programming?</font> "
   ]
  },
  {
   "cell_type": "code",
   "execution_count": 180,
   "metadata": {},
   "outputs": [
    {
     "name": "stdout",
     "output_type": "stream",
     "text": [
      "The number of total solution is: 4096\n"
     ]
    }
   ],
   "source": [
    "list_sol =[]\n",
    "list_ratio_voters = []\n",
    "print(\"The number of total solution is:\",2**12)\n",
    "\n",
    "def bruteforce(n):\n",
    "    for choice in product([0,1],repeat=n):\n",
    "        sol = np.array((choice))\n",
    "        df['solutions'] = sol\n",
    "        df_choosen = df.loc[df['solutions']==1]\n",
    "        if sum(df_choosen['Cost'])<=500000:\n",
    "            #print(df_choosen)\n",
    "            list_sol.append(sol)\n",
    "            list_ratio_voters.append(sum(df_choosen['Ratio_voters']))\n",
    "    best_ratio_voters = max(list_ratio_voters)\n",
    "    index_ratio = list_ratio_voters.index(best_ratio_voters)\n",
    "    best_sol = list_sol[index_ratio]\n",
    "    df['solutions'] = best_sol\n",
    "    return best_ratio_voters, best_sol\n",
    "\n",
    "best_ratio_voters, best_sol = bruteforce(12)"
   ]
  },
  {
   "cell_type": "code",
   "execution_count": 184,
   "metadata": {},
   "outputs": [
    {
     "name": "stdout",
     "output_type": "stream",
     "text": [
      "The project selected, with the brute force method, are: 0     proj-01\n",
      "1     proj-02\n",
      "2     proj-03\n",
      "4     proj-05\n",
      "5     proj-06\n",
      "6     proj-07\n",
      "7     proj-08\n",
      "9     proj-10\n",
      "10    proj-11\n",
      "11    proj-12\n",
      "Name: Project_id, dtype: object\n",
      "\n",
      "The total cost is: 414000\n",
      "\n",
      "The percentage of voters is: 77.54999999999998\n"
     ]
    }
   ],
   "source": [
    "print(\"The project selected, with the brute force method, are:\",df[df['solutions']==1].Project_id)\n",
    "print(\"\\nThe total cost is:\",df[df['solutions']==1].Cost.sum())\n",
    "print(\"\\nThe percentage of satisfied voters is:\",best_ratio_voters)"
   ]
  },
  {
   "cell_type": "markdown",
   "metadata": {},
   "source": [
    "<font color='blue'> As we can see, the result of the total cost and the percentage of satisfied voters are the same. And the project rejected are the fourth one and the nineth one. If we compare, we can see that this is exactly the same result as our first method. We can conclude that our method with linprog and revised simplex was the best. </font> "
   ]
  },
  {
   "cell_type": "markdown",
   "metadata": {},
   "source": [
    "## d) Limits of our linear programming approach to select projects"
   ]
  },
  {
   "cell_type": "markdown",
   "metadata": {},
   "source": [
    "<font color='blue'> Question 13: perform brute-force, our linear programming approach using either the simplex or the interior-point method, and the algorithm originally used by the City Hall of Paris to select projects on the **'votes-v2.csv'** file. Does any approach, brute force excluded, select the expected best solution? Is the maximal allocated budget exceeded after thresholding at 0.5 the optimized variables using linear programming? What constraints should be added to properly solve this problem? </font> "
   ]
  },
  {
   "cell_type": "code",
   "execution_count": 189,
   "metadata": {},
   "outputs": [
    {
     "data": {
      "text/html": [
       "<div>\n",
       "<style scoped>\n",
       "    .dataframe tbody tr th:only-of-type {\n",
       "        vertical-align: middle;\n",
       "    }\n",
       "\n",
       "    .dataframe tbody tr th {\n",
       "        vertical-align: top;\n",
       "    }\n",
       "\n",
       "    .dataframe thead th {\n",
       "        text-align: right;\n",
       "    }\n",
       "</style>\n",
       "<table border=\"1\" class=\"dataframe\">\n",
       "  <thead>\n",
       "    <tr style=\"text-align: right;\">\n",
       "      <th></th>\n",
       "      <th>Project_id</th>\n",
       "      <th>Nb_votes</th>\n",
       "      <th>Cost</th>\n",
       "    </tr>\n",
       "  </thead>\n",
       "  <tbody>\n",
       "    <tr>\n",
       "      <th>0</th>\n",
       "      <td>proj-01</td>\n",
       "      <td>1010</td>\n",
       "      <td>54316</td>\n",
       "    </tr>\n",
       "    <tr>\n",
       "      <th>1</th>\n",
       "      <td>proj-02</td>\n",
       "      <td>369</td>\n",
       "      <td>443312</td>\n",
       "    </tr>\n",
       "    <tr>\n",
       "      <th>2</th>\n",
       "      <td>proj-03</td>\n",
       "      <td>1984</td>\n",
       "      <td>173569</td>\n",
       "    </tr>\n",
       "    <tr>\n",
       "      <th>3</th>\n",
       "      <td>proj-04</td>\n",
       "      <td>1461</td>\n",
       "      <td>433077</td>\n",
       "    </tr>\n",
       "    <tr>\n",
       "      <th>4</th>\n",
       "      <td>proj-05</td>\n",
       "      <td>581</td>\n",
       "      <td>430308</td>\n",
       "    </tr>\n",
       "  </tbody>\n",
       "</table>\n",
       "</div>"
      ],
      "text/plain": [
       "  Project_id  Nb_votes    Cost\n",
       "0    proj-01      1010   54316\n",
       "1    proj-02       369  443312\n",
       "2    proj-03      1984  173569\n",
       "3    proj-04      1461  433077\n",
       "4    proj-05       581  430308"
      ]
     },
     "execution_count": 189,
     "metadata": {},
     "output_type": "execute_result"
    }
   ],
   "source": [
    "# Load the first csv file\n",
    "df2 = pd.read_csv('votes-v2.csv')\n",
    "df2"
   ]
  },
  {
   "cell_type": "code",
   "execution_count": 190,
   "metadata": {},
   "outputs": [
    {
     "name": "stdout",
     "output_type": "stream",
     "text": [
      "5405 total votes\n",
      "1534582 total cost\n"
     ]
    }
   ],
   "source": [
    "nb_total_voters2 = sum(df2.Nb_votes)\n",
    "print('{0} total votes'.format(nb_total_voters2))\n",
    "\n",
    "nb_total_cost2 = sum(df2.Cost)\n",
    "print('{0} total cost'.format(nb_total_cost2))"
   ]
  },
  {
   "cell_type": "code",
   "execution_count": 191,
   "metadata": {},
   "outputs": [],
   "source": [
    "df2['Ratio_voters'] = round(df2.Nb_votes/nb_total_voters2*100,2)"
   ]
  },
  {
   "cell_type": "code",
   "execution_count": 192,
   "metadata": {},
   "outputs": [
    {
     "data": {
      "text/html": [
       "<div>\n",
       "<style scoped>\n",
       "    .dataframe tbody tr th:only-of-type {\n",
       "        vertical-align: middle;\n",
       "    }\n",
       "\n",
       "    .dataframe tbody tr th {\n",
       "        vertical-align: top;\n",
       "    }\n",
       "\n",
       "    .dataframe thead th {\n",
       "        text-align: right;\n",
       "    }\n",
       "</style>\n",
       "<table border=\"1\" class=\"dataframe\">\n",
       "  <thead>\n",
       "    <tr style=\"text-align: right;\">\n",
       "      <th></th>\n",
       "      <th>Project_id</th>\n",
       "      <th>Nb_votes</th>\n",
       "      <th>Cost</th>\n",
       "      <th>Ratio_voters</th>\n",
       "    </tr>\n",
       "  </thead>\n",
       "  <tbody>\n",
       "    <tr>\n",
       "      <th>0</th>\n",
       "      <td>proj-01</td>\n",
       "      <td>1010</td>\n",
       "      <td>54316</td>\n",
       "      <td>18.69</td>\n",
       "    </tr>\n",
       "    <tr>\n",
       "      <th>1</th>\n",
       "      <td>proj-02</td>\n",
       "      <td>369</td>\n",
       "      <td>443312</td>\n",
       "      <td>6.83</td>\n",
       "    </tr>\n",
       "    <tr>\n",
       "      <th>2</th>\n",
       "      <td>proj-03</td>\n",
       "      <td>1984</td>\n",
       "      <td>173569</td>\n",
       "      <td>36.71</td>\n",
       "    </tr>\n",
       "    <tr>\n",
       "      <th>3</th>\n",
       "      <td>proj-04</td>\n",
       "      <td>1461</td>\n",
       "      <td>433077</td>\n",
       "      <td>27.03</td>\n",
       "    </tr>\n",
       "    <tr>\n",
       "      <th>4</th>\n",
       "      <td>proj-05</td>\n",
       "      <td>581</td>\n",
       "      <td>430308</td>\n",
       "      <td>10.75</td>\n",
       "    </tr>\n",
       "  </tbody>\n",
       "</table>\n",
       "</div>"
      ],
      "text/plain": [
       "  Project_id  Nb_votes    Cost  Ratio_voters\n",
       "0    proj-01      1010   54316         18.69\n",
       "1    proj-02       369  443312          6.83\n",
       "2    proj-03      1984  173569         36.71\n",
       "3    proj-04      1461  433077         27.03\n",
       "4    proj-05       581  430308         10.75"
      ]
     },
     "execution_count": 192,
     "metadata": {},
     "output_type": "execute_result"
    }
   ],
   "source": [
    "df2"
   ]
  },
  {
   "cell_type": "code",
   "execution_count": 195,
   "metadata": {},
   "outputs": [
    {
     "data": {
      "text/plain": [
       "array([ 54316, 443312, 173569, 433077, 430308])"
      ]
     },
     "execution_count": 195,
     "metadata": {},
     "output_type": "execute_result"
    }
   ],
   "source": [
    "df2.Cost.values"
   ]
  },
  {
   "cell_type": "code",
   "execution_count": 214,
   "metadata": {},
   "outputs": [
    {
     "name": "stdout",
     "output_type": "stream",
     "text": [
      "The project selected, with the brute force method, are: 0    proj-03\n",
      "2    proj-01\n",
      "Name: Project_id, dtype: object\n",
      "\n",
      "The total cost is: 227885\n",
      "\n",
      "The percentage of satisfied voters is: 55.400000000000006\n"
     ]
    }
   ],
   "source": [
    "# BRUTE FORCE METHOD\n",
    "list_sol =[]\n",
    "list_ratio_voters = []\n",
    "\n",
    "def bruteforce(n):\n",
    "    for choice in product([0,1],repeat=n):\n",
    "        sol = np.array((choice))\n",
    "        df2['solutions'] = sol\n",
    "        df_choosen2 = df2.loc[df2['solutions']==1]\n",
    "        if sum(df_choosen2['Cost'])<=500000:\n",
    "            #print(df_choosen)\n",
    "            list_sol.append(sol)\n",
    "            list_ratio_voters.append(sum(df_choosen2['Ratio_voters']))\n",
    "    best_ratio_voters = max(list_ratio_voters)\n",
    "    index_ratio = list_ratio_voters.index(best_ratio_voters)\n",
    "    best_sol = list_sol[index_ratio]\n",
    "    df2['solutions'] = best_sol\n",
    "    return best_ratio_voters, best_sol\n",
    "\n",
    "best_ratio_voters, best_sol = bruteforce(df2.shape[0])\n",
    "\n",
    "print(\"The project selected, with the brute force method, are:\",df2[df2['solutions']==1].Project_id)\n",
    "print(\"\\nThe total cost is:\",df2[df2['solutions']==1].Cost.sum())\n",
    "print(\"\\nThe percentage of satisfied voters is:\",best_ratio_voters)"
   ]
  },
  {
   "cell_type": "code",
   "execution_count": 208,
   "metadata": {},
   "outputs": [
    {
     "name": "stdout",
     "output_type": "stream",
     "text": [
      "The optimal value of the objective function is -72.38\n",
      "The x array shows us the probability of each project being chosen  [1.         0.         1.         0.62832937 0.        ]\n",
      "If we divide multiply x by r and -1 and we do the sum we have to obtain f : -72.38\n",
      "0    proj-01\n",
      "2    proj-03\n",
      "3    proj-04\n",
      "Name: Project_id, dtype: object\n",
      "\n",
      "The total cost of all the finally selected projects is 660962\n",
      "\n",
      "The percentage of satisfied voters is 82.43\n"
     ]
    }
   ],
   "source": [
    "# REVISED SIMPLEX METHOD\n",
    "nb_projects2 = df2.shape[0]\n",
    "# Set the coefficients of the linear objective function to be minimized\n",
    "c2 = -df2['Ratio_voters'].values\n",
    "\n",
    "# Set the inequality constraint matrix\n",
    "A2 = [df2.Cost.values.tolist(),]\n",
    "\n",
    "# Set the inequality constraint vector\n",
    "max_budget = 500000\n",
    "b2 = [max_budget]\n",
    "\n",
    "#Set the bounds\n",
    "bounds = []\n",
    "for i in range (nb_projects2):\n",
    "    bounds.append((0,1))\n",
    "    \n",
    "# Select the optimization method\n",
    "method = 'revised simplex'\n",
    "\n",
    "# Perform the optimization using the simplex method\n",
    "res2 = linprog(c2, A_ub=A2, b_ub=b2, method=method, bounds=bounds)\n",
    "\n",
    "print(\"The optimal value of the objective function is\",round(res2.fun,2))\n",
    "print(\"The x array shows us the probability of each project being chosen \", res2.x)\n",
    "print(\"If we divide multiply x by r and -1 and we do the sum we have to obtain f :\", round(-1*np.sum(res2.x*df2['Ratio_voters']),2))\n",
    "\n",
    "proj_selected2 = df2['Project_id'].loc[res2.x>=0.5]\n",
    "print(proj_selected2)\n",
    "\n",
    "# Total cost of selected projects \n",
    "print(\"\\nThe total cost of all the finally selected projects is\",sum(df2['Cost'].loc[res2.x>=0.5]))\n",
    "\n",
    "# Total ratio of satisfied voters \n",
    "print(\"\\nThe percentage of satisfied voters is\",sum(df2['Ratio_voters'].loc[res2.x>=0.5]))"
   ]
  },
  {
   "cell_type": "code",
   "execution_count": 211,
   "metadata": {},
   "outputs": [
    {
     "name": "stdout",
     "output_type": "stream",
     "text": [
      "The optimal value of the objective function is -72.38\n",
      "The x array shows us the probability of each project being chosen  [1.00000000e+00 4.08785190e-14 1.00000000e+00 6.28329373e-01\n",
      " 2.39610561e-14]\n",
      "If we divide multiply x by r and -1 and we do the sum we have to obtain f : -72.38\n",
      "0    proj-01\n",
      "2    proj-03\n",
      "3    proj-04\n",
      "Name: Project_id, dtype: object\n",
      "\n",
      "The total cost of all the finally selected projects is 660962\n",
      "\n",
      "The percentage of satisfied voters is 82.43\n"
     ]
    }
   ],
   "source": [
    "# INTERIOR POINT METHOD\n",
    "method = 'interior-point'\n",
    "res_interior2 = linprog(c2, A_ub=A2, b_ub=b2, method=method, bounds=bounds)\n",
    "\n",
    "# Display the optimization results\n",
    "print(\"The optimal value of the objective function is\",round(res_interior2.fun,2))\n",
    "print(\"The x array shows us the probability of each project being chosen \", res_interior2.x)\n",
    "print(\"If we divide multiply x by r and -1 and we do the sum we have to obtain f :\", round(-1*np.sum(res_interior2.x*df2['Ratio_voters']),2))\n",
    "\n",
    "proj_selected2 = df2['Project_id'].loc[res_interior2.x>=0.5]\n",
    "print(proj_selected2)\n",
    "\n",
    "# Total cost of selected projects \n",
    "print(\"\\nThe total cost of all the finally selected projects is\",sum(df2['Cost'].loc[res_interior2.x>=0.5]))\n",
    "\n",
    "# Total ratio of satisfied voters \n",
    "print(\"\\nThe percentage of satisfied voters is\",sum(df2['Ratio_voters'].loc[res_interior2.x>=0.5]))"
   ]
  },
  {
   "cell_type": "code",
   "execution_count": 213,
   "metadata": {},
   "outputs": [
    {
     "name": "stdout",
     "output_type": "stream",
     "text": [
      "We cannot select another project, total cost is 173569\n",
      "We selected these projects: ['proj-03']\n",
      "Percentage of satisfied voters is: 36.71\n"
     ]
    }
   ],
   "source": [
    "# CITY HALL OF PARIS METHOD\n",
    "df2 = df2.sort_values('Nb_votes',ascending= False).reset_index(drop=True)\n",
    "df2['Cost_cumsum'] = df2.Cost.cumsum().reset_index(drop=True)\n",
    "list1 = []\n",
    "list2 = []\n",
    "\n",
    "for i in range(df2.shape[0]): \n",
    "    if df2.Cost_cumsum[i] <=500000:\n",
    "        list1.append(df2['Project_id'][i])\n",
    "        list2.append(df2['Ratio_voters'][i])\n",
    "\n",
    "    else:\n",
    "        print(\"We cannot select another project, total cost is\",df2['Cost_cumsum'][i-1])\n",
    "        print(\"We selected these projects:\",list1)\n",
    "        print(\"Percentage of satisfied voters is:\",round(sum(list2),2))  \n",
    "        break"
   ]
  },
  {
   "cell_type": "markdown",
   "metadata": {},
   "source": [
    "<font color='blue'> \n",
    "    - As we can see the Interior point method and the revised simplex method have the same and the best result, but with a problem : the cost is too high. The problem is that the threshold fixed at 0.5 is too low here. \n",
    "    \n",
    "   - The project 4 is accepted with this method because his probability is 0.63 (>0.5) but it's 1 as the other. The Paris Hall of Paris method has the lowest reuslts. And the brute force method has the most optimized result but any other method find the same result.\n",
    "\n",
    "- Top properly solve this problem with the interior point or the revised simplex method, we could maybe add a constraint of a maximum number of projects selected. Here it would be 2. Or we could increase the threshold like at 0.65.</font> "
   ]
  },
  {
   "cell_type": "code",
   "execution_count": null,
   "metadata": {},
   "outputs": [],
   "source": []
  }
 ],
 "metadata": {
  "kernelspec": {
   "display_name": "Python 3 (ipykernel)",
   "language": "python",
   "name": "python3"
  },
  "language_info": {
   "codemirror_mode": {
    "name": "ipython",
    "version": 3
   },
   "file_extension": ".py",
   "mimetype": "text/x-python",
   "name": "python",
   "nbconvert_exporter": "python",
   "pygments_lexer": "ipython3",
   "version": "3.9.7"
  }
 },
 "nbformat": 4,
 "nbformat_minor": 2
}
